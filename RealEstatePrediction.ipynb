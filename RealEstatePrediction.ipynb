{
 "cells": [
  {
   "cell_type": "markdown",
   "id": "8f118895-157c-4b04-ac14-8036a9b6c979",
   "metadata": {},
   "source": [
    "# Real Estate Price Predictor"
   ]
  },
  {
   "cell_type": "code",
   "execution_count": 1,
   "id": "cf84eea8-71f8-4be0-a4e9-8b09ed31b7bd",
   "metadata": {},
   "outputs": [],
   "source": [
    "import pandas as pd"
   ]
  },
  {
   "cell_type": "code",
   "execution_count": 2,
   "id": "c33089c5-60ae-4283-b70c-3b8e768e71c4",
   "metadata": {},
   "outputs": [],
   "source": [
    "df = pd.read_csv('data.csv')"
   ]
  },
  {
   "cell_type": "code",
   "execution_count": 3,
   "id": "1cec8aed-3349-4523-9894-f11c4ea835c3",
   "metadata": {},
   "outputs": [
    {
     "data": {
      "text/html": [
       "<div>\n",
       "<style scoped>\n",
       "    .dataframe tbody tr th:only-of-type {\n",
       "        vertical-align: middle;\n",
       "    }\n",
       "\n",
       "    .dataframe tbody tr th {\n",
       "        vertical-align: top;\n",
       "    }\n",
       "\n",
       "    .dataframe thead th {\n",
       "        text-align: right;\n",
       "    }\n",
       "</style>\n",
       "<table border=\"1\" class=\"dataframe\">\n",
       "  <thead>\n",
       "    <tr style=\"text-align: right;\">\n",
       "      <th></th>\n",
       "      <th>CRIM</th>\n",
       "      <th>ZN</th>\n",
       "      <th>INDUS</th>\n",
       "      <th>CHAS</th>\n",
       "      <th>NOX</th>\n",
       "      <th>RM</th>\n",
       "      <th>AGE</th>\n",
       "      <th>DIS</th>\n",
       "      <th>RAD</th>\n",
       "      <th>TAX</th>\n",
       "      <th>PTRATIO</th>\n",
       "      <th>B</th>\n",
       "      <th>LSTAT</th>\n",
       "      <th>MEDV</th>\n",
       "    </tr>\n",
       "  </thead>\n",
       "  <tbody>\n",
       "    <tr>\n",
       "      <th>0</th>\n",
       "      <td>0.006320</td>\n",
       "      <td>18.000000</td>\n",
       "      <td>2.310000</td>\n",
       "      <td>0.00000</td>\n",
       "      <td>0.538000</td>\n",
       "      <td>6.575000</td>\n",
       "      <td>65.200000</td>\n",
       "      <td>4.090000</td>\n",
       "      <td>1.000000</td>\n",
       "      <td>296.000000</td>\n",
       "      <td>15.300000</td>\n",
       "      <td>396.900000</td>\n",
       "      <td>4.980000</td>\n",
       "      <td>24.000000</td>\n",
       "    </tr>\n",
       "    <tr>\n",
       "      <th>1</th>\n",
       "      <td>0.027310</td>\n",
       "      <td>0.000000</td>\n",
       "      <td>7.070000</td>\n",
       "      <td>0.00000</td>\n",
       "      <td>0.469000</td>\n",
       "      <td>6.421000</td>\n",
       "      <td>78.900000</td>\n",
       "      <td>4.967100</td>\n",
       "      <td>2.000000</td>\n",
       "      <td>242.000000</td>\n",
       "      <td>17.800000</td>\n",
       "      <td>396.900000</td>\n",
       "      <td>9.140000</td>\n",
       "      <td>21.600000</td>\n",
       "    </tr>\n",
       "    <tr>\n",
       "      <th>2</th>\n",
       "      <td>0.027290</td>\n",
       "      <td>0.000000</td>\n",
       "      <td>7.070000</td>\n",
       "      <td>0.00000</td>\n",
       "      <td>0.469000</td>\n",
       "      <td>7.185000</td>\n",
       "      <td>61.100000</td>\n",
       "      <td>4.967100</td>\n",
       "      <td>2.000000</td>\n",
       "      <td>242.000000</td>\n",
       "      <td>17.800000</td>\n",
       "      <td>392.830000</td>\n",
       "      <td>4.030000</td>\n",
       "      <td>34.700000</td>\n",
       "    </tr>\n",
       "    <tr>\n",
       "      <th>3</th>\n",
       "      <td>0.032370</td>\n",
       "      <td>0.000000</td>\n",
       "      <td>2.180000</td>\n",
       "      <td>0.00000</td>\n",
       "      <td>0.458000</td>\n",
       "      <td>6.998000</td>\n",
       "      <td>45.800000</td>\n",
       "      <td>6.062200</td>\n",
       "      <td>3.000000</td>\n",
       "      <td>222.000000</td>\n",
       "      <td>18.700000</td>\n",
       "      <td>394.630000</td>\n",
       "      <td>2.940000</td>\n",
       "      <td>33.400000</td>\n",
       "    </tr>\n",
       "    <tr>\n",
       "      <th>4</th>\n",
       "      <td>0.069050</td>\n",
       "      <td>0.000000</td>\n",
       "      <td>2.180000</td>\n",
       "      <td>0.00000</td>\n",
       "      <td>0.458000</td>\n",
       "      <td>7.147000</td>\n",
       "      <td>54.200000</td>\n",
       "      <td>6.062200</td>\n",
       "      <td>3.000000</td>\n",
       "      <td>222.000000</td>\n",
       "      <td>18.700000</td>\n",
       "      <td>396.900000</td>\n",
       "      <td>5.330000</td>\n",
       "      <td>36.200000</td>\n",
       "    </tr>\n",
       "    <tr>\n",
       "      <th>...</th>\n",
       "      <td>...</td>\n",
       "      <td>...</td>\n",
       "      <td>...</td>\n",
       "      <td>...</td>\n",
       "      <td>...</td>\n",
       "      <td>...</td>\n",
       "      <td>...</td>\n",
       "      <td>...</td>\n",
       "      <td>...</td>\n",
       "      <td>...</td>\n",
       "      <td>...</td>\n",
       "      <td>...</td>\n",
       "      <td>...</td>\n",
       "      <td>...</td>\n",
       "    </tr>\n",
       "    <tr>\n",
       "      <th>502</th>\n",
       "      <td>0.045270</td>\n",
       "      <td>0.000000</td>\n",
       "      <td>11.930000</td>\n",
       "      <td>0.00000</td>\n",
       "      <td>0.573000</td>\n",
       "      <td>6.120000</td>\n",
       "      <td>76.700000</td>\n",
       "      <td>2.287500</td>\n",
       "      <td>1.000000</td>\n",
       "      <td>273.000000</td>\n",
       "      <td>21.000000</td>\n",
       "      <td>396.900000</td>\n",
       "      <td>9.080000</td>\n",
       "      <td>20.600000</td>\n",
       "    </tr>\n",
       "    <tr>\n",
       "      <th>503</th>\n",
       "      <td>0.060760</td>\n",
       "      <td>0.000000</td>\n",
       "      <td>11.930000</td>\n",
       "      <td>0.00000</td>\n",
       "      <td>0.573000</td>\n",
       "      <td>6.976000</td>\n",
       "      <td>91.000000</td>\n",
       "      <td>2.167500</td>\n",
       "      <td>1.000000</td>\n",
       "      <td>273.000000</td>\n",
       "      <td>21.000000</td>\n",
       "      <td>396.900000</td>\n",
       "      <td>5.640000</td>\n",
       "      <td>23.900000</td>\n",
       "    </tr>\n",
       "    <tr>\n",
       "      <th>504</th>\n",
       "      <td>0.109590</td>\n",
       "      <td>0.000000</td>\n",
       "      <td>11.930000</td>\n",
       "      <td>0.00000</td>\n",
       "      <td>0.573000</td>\n",
       "      <td>6.794000</td>\n",
       "      <td>89.300000</td>\n",
       "      <td>2.388900</td>\n",
       "      <td>1.000000</td>\n",
       "      <td>273.000000</td>\n",
       "      <td>21.000000</td>\n",
       "      <td>393.450000</td>\n",
       "      <td>6.480000</td>\n",
       "      <td>22.000000</td>\n",
       "    </tr>\n",
       "    <tr>\n",
       "      <th>505</th>\n",
       "      <td>0.047410</td>\n",
       "      <td>0.000000</td>\n",
       "      <td>11.930000</td>\n",
       "      <td>0.00000</td>\n",
       "      <td>0.573000</td>\n",
       "      <td>6.030000</td>\n",
       "      <td>80.800000</td>\n",
       "      <td>2.505000</td>\n",
       "      <td>1.000000</td>\n",
       "      <td>273.000000</td>\n",
       "      <td>21.000000</td>\n",
       "      <td>396.900000</td>\n",
       "      <td>7.880000</td>\n",
       "      <td>11.900000</td>\n",
       "    </tr>\n",
       "    <tr>\n",
       "      <th>506</th>\n",
       "      <td>3.613524</td>\n",
       "      <td>11.363636</td>\n",
       "      <td>11.136779</td>\n",
       "      <td>0.06917</td>\n",
       "      <td>0.554695</td>\n",
       "      <td>6.284341</td>\n",
       "      <td>68.574901</td>\n",
       "      <td>3.795043</td>\n",
       "      <td>9.549407</td>\n",
       "      <td>408.237154</td>\n",
       "      <td>18.455534</td>\n",
       "      <td>356.674032</td>\n",
       "      <td>12.653063</td>\n",
       "      <td>22.532806</td>\n",
       "    </tr>\n",
       "  </tbody>\n",
       "</table>\n",
       "<p>507 rows × 14 columns</p>\n",
       "</div>"
      ],
      "text/plain": [
       "         CRIM         ZN      INDUS     CHAS       NOX        RM        AGE  \\\n",
       "0    0.006320  18.000000   2.310000  0.00000  0.538000  6.575000  65.200000   \n",
       "1    0.027310   0.000000   7.070000  0.00000  0.469000  6.421000  78.900000   \n",
       "2    0.027290   0.000000   7.070000  0.00000  0.469000  7.185000  61.100000   \n",
       "3    0.032370   0.000000   2.180000  0.00000  0.458000  6.998000  45.800000   \n",
       "4    0.069050   0.000000   2.180000  0.00000  0.458000  7.147000  54.200000   \n",
       "..        ...        ...        ...      ...       ...       ...        ...   \n",
       "502  0.045270   0.000000  11.930000  0.00000  0.573000  6.120000  76.700000   \n",
       "503  0.060760   0.000000  11.930000  0.00000  0.573000  6.976000  91.000000   \n",
       "504  0.109590   0.000000  11.930000  0.00000  0.573000  6.794000  89.300000   \n",
       "505  0.047410   0.000000  11.930000  0.00000  0.573000  6.030000  80.800000   \n",
       "506  3.613524  11.363636  11.136779  0.06917  0.554695  6.284341  68.574901   \n",
       "\n",
       "          DIS       RAD         TAX    PTRATIO           B      LSTAT  \\\n",
       "0    4.090000  1.000000  296.000000  15.300000  396.900000   4.980000   \n",
       "1    4.967100  2.000000  242.000000  17.800000  396.900000   9.140000   \n",
       "2    4.967100  2.000000  242.000000  17.800000  392.830000   4.030000   \n",
       "3    6.062200  3.000000  222.000000  18.700000  394.630000   2.940000   \n",
       "4    6.062200  3.000000  222.000000  18.700000  396.900000   5.330000   \n",
       "..        ...       ...         ...        ...         ...        ...   \n",
       "502  2.287500  1.000000  273.000000  21.000000  396.900000   9.080000   \n",
       "503  2.167500  1.000000  273.000000  21.000000  396.900000   5.640000   \n",
       "504  2.388900  1.000000  273.000000  21.000000  393.450000   6.480000   \n",
       "505  2.505000  1.000000  273.000000  21.000000  396.900000   7.880000   \n",
       "506  3.795043  9.549407  408.237154  18.455534  356.674032  12.653063   \n",
       "\n",
       "          MEDV  \n",
       "0    24.000000  \n",
       "1    21.600000  \n",
       "2    34.700000  \n",
       "3    33.400000  \n",
       "4    36.200000  \n",
       "..         ...  \n",
       "502  20.600000  \n",
       "503  23.900000  \n",
       "504  22.000000  \n",
       "505  11.900000  \n",
       "506  22.532806  \n",
       "\n",
       "[507 rows x 14 columns]"
      ]
     },
     "execution_count": 3,
     "metadata": {},
     "output_type": "execute_result"
    }
   ],
   "source": [
    "df"
   ]
  },
  {
   "cell_type": "code",
   "execution_count": 4,
   "id": "d81e70c5-a6ae-45e5-ae80-5ed0f31edf16",
   "metadata": {},
   "outputs": [
    {
     "name": "stdout",
     "output_type": "stream",
     "text": [
      "<class 'pandas.core.frame.DataFrame'>\n",
      "RangeIndex: 507 entries, 0 to 506\n",
      "Data columns (total 14 columns):\n",
      " #   Column   Non-Null Count  Dtype  \n",
      "---  ------   --------------  -----  \n",
      " 0   CRIM     507 non-null    float64\n",
      " 1   ZN       507 non-null    float64\n",
      " 2   INDUS    507 non-null    float64\n",
      " 3   CHAS     507 non-null    float64\n",
      " 4   NOX      507 non-null    float64\n",
      " 5   RM       502 non-null    float64\n",
      " 6   AGE      507 non-null    float64\n",
      " 7   DIS      507 non-null    float64\n",
      " 8   RAD      507 non-null    float64\n",
      " 9   TAX      507 non-null    float64\n",
      " 10  PTRATIO  507 non-null    float64\n",
      " 11  B        507 non-null    float64\n",
      " 12  LSTAT    507 non-null    float64\n",
      " 13  MEDV     507 non-null    float64\n",
      "dtypes: float64(14)\n",
      "memory usage: 55.6 KB\n"
     ]
    }
   ],
   "source": [
    "df.info()"
   ]
  },
  {
   "cell_type": "code",
   "execution_count": 5,
   "id": "641a7fea-ff41-439d-bf2c-17fa24f5558d",
   "metadata": {},
   "outputs": [
    {
     "data": {
      "text/html": [
       "<div>\n",
       "<style scoped>\n",
       "    .dataframe tbody tr th:only-of-type {\n",
       "        vertical-align: middle;\n",
       "    }\n",
       "\n",
       "    .dataframe tbody tr th {\n",
       "        vertical-align: top;\n",
       "    }\n",
       "\n",
       "    .dataframe thead th {\n",
       "        text-align: right;\n",
       "    }\n",
       "</style>\n",
       "<table border=\"1\" class=\"dataframe\">\n",
       "  <thead>\n",
       "    <tr style=\"text-align: right;\">\n",
       "      <th></th>\n",
       "      <th>CRIM</th>\n",
       "      <th>ZN</th>\n",
       "      <th>INDUS</th>\n",
       "      <th>CHAS</th>\n",
       "      <th>NOX</th>\n",
       "      <th>RM</th>\n",
       "      <th>AGE</th>\n",
       "      <th>DIS</th>\n",
       "      <th>RAD</th>\n",
       "      <th>TAX</th>\n",
       "      <th>PTRATIO</th>\n",
       "      <th>B</th>\n",
       "      <th>LSTAT</th>\n",
       "      <th>MEDV</th>\n",
       "    </tr>\n",
       "  </thead>\n",
       "  <tbody>\n",
       "    <tr>\n",
       "      <th>count</th>\n",
       "      <td>507.000000</td>\n",
       "      <td>507.000000</td>\n",
       "      <td>507.000000</td>\n",
       "      <td>507.000000</td>\n",
       "      <td>507.000000</td>\n",
       "      <td>502.000000</td>\n",
       "      <td>507.000000</td>\n",
       "      <td>507.000000</td>\n",
       "      <td>507.000000</td>\n",
       "      <td>507.000000</td>\n",
       "      <td>507.000000</td>\n",
       "      <td>507.000000</td>\n",
       "      <td>507.000000</td>\n",
       "      <td>507.000000</td>\n",
       "    </tr>\n",
       "    <tr>\n",
       "      <th>mean</th>\n",
       "      <td>3.613524</td>\n",
       "      <td>11.363636</td>\n",
       "      <td>11.136779</td>\n",
       "      <td>0.069170</td>\n",
       "      <td>0.554695</td>\n",
       "      <td>6.284341</td>\n",
       "      <td>68.574901</td>\n",
       "      <td>3.795043</td>\n",
       "      <td>9.549407</td>\n",
       "      <td>408.237154</td>\n",
       "      <td>18.455534</td>\n",
       "      <td>356.674032</td>\n",
       "      <td>12.653063</td>\n",
       "      <td>22.532806</td>\n",
       "    </tr>\n",
       "    <tr>\n",
       "      <th>std</th>\n",
       "      <td>8.593041</td>\n",
       "      <td>23.299396</td>\n",
       "      <td>6.853571</td>\n",
       "      <td>0.253743</td>\n",
       "      <td>0.115763</td>\n",
       "      <td>0.704882</td>\n",
       "      <td>28.121033</td>\n",
       "      <td>2.103628</td>\n",
       "      <td>8.698651</td>\n",
       "      <td>168.370495</td>\n",
       "      <td>2.162805</td>\n",
       "      <td>91.204607</td>\n",
       "      <td>7.134002</td>\n",
       "      <td>9.188012</td>\n",
       "    </tr>\n",
       "    <tr>\n",
       "      <th>min</th>\n",
       "      <td>0.006320</td>\n",
       "      <td>0.000000</td>\n",
       "      <td>0.460000</td>\n",
       "      <td>0.000000</td>\n",
       "      <td>0.385000</td>\n",
       "      <td>3.561000</td>\n",
       "      <td>2.900000</td>\n",
       "      <td>1.129600</td>\n",
       "      <td>1.000000</td>\n",
       "      <td>187.000000</td>\n",
       "      <td>12.600000</td>\n",
       "      <td>0.320000</td>\n",
       "      <td>1.730000</td>\n",
       "      <td>5.000000</td>\n",
       "    </tr>\n",
       "    <tr>\n",
       "      <th>25%</th>\n",
       "      <td>0.082100</td>\n",
       "      <td>0.000000</td>\n",
       "      <td>5.190000</td>\n",
       "      <td>0.000000</td>\n",
       "      <td>0.449000</td>\n",
       "      <td>5.884250</td>\n",
       "      <td>45.050000</td>\n",
       "      <td>2.100350</td>\n",
       "      <td>4.000000</td>\n",
       "      <td>279.000000</td>\n",
       "      <td>17.400000</td>\n",
       "      <td>375.270000</td>\n",
       "      <td>6.970000</td>\n",
       "      <td>17.050000</td>\n",
       "    </tr>\n",
       "    <tr>\n",
       "      <th>50%</th>\n",
       "      <td>0.259150</td>\n",
       "      <td>0.000000</td>\n",
       "      <td>9.690000</td>\n",
       "      <td>0.000000</td>\n",
       "      <td>0.538000</td>\n",
       "      <td>6.208500</td>\n",
       "      <td>77.300000</td>\n",
       "      <td>3.215700</td>\n",
       "      <td>5.000000</td>\n",
       "      <td>330.000000</td>\n",
       "      <td>19.000000</td>\n",
       "      <td>391.430000</td>\n",
       "      <td>11.380000</td>\n",
       "      <td>21.200000</td>\n",
       "    </tr>\n",
       "    <tr>\n",
       "      <th>75%</th>\n",
       "      <td>3.675945</td>\n",
       "      <td>12.500000</td>\n",
       "      <td>18.100000</td>\n",
       "      <td>0.000000</td>\n",
       "      <td>0.624000</td>\n",
       "      <td>6.623500</td>\n",
       "      <td>94.050000</td>\n",
       "      <td>5.164950</td>\n",
       "      <td>24.000000</td>\n",
       "      <td>666.000000</td>\n",
       "      <td>20.200000</td>\n",
       "      <td>396.220000</td>\n",
       "      <td>16.950000</td>\n",
       "      <td>25.000000</td>\n",
       "    </tr>\n",
       "    <tr>\n",
       "      <th>max</th>\n",
       "      <td>88.976200</td>\n",
       "      <td>100.000000</td>\n",
       "      <td>27.740000</td>\n",
       "      <td>1.000000</td>\n",
       "      <td>0.871000</td>\n",
       "      <td>8.780000</td>\n",
       "      <td>100.000000</td>\n",
       "      <td>12.126500</td>\n",
       "      <td>24.000000</td>\n",
       "      <td>711.000000</td>\n",
       "      <td>22.000000</td>\n",
       "      <td>396.900000</td>\n",
       "      <td>37.970000</td>\n",
       "      <td>50.000000</td>\n",
       "    </tr>\n",
       "  </tbody>\n",
       "</table>\n",
       "</div>"
      ],
      "text/plain": [
       "             CRIM          ZN       INDUS        CHAS         NOX          RM  \\\n",
       "count  507.000000  507.000000  507.000000  507.000000  507.000000  502.000000   \n",
       "mean     3.613524   11.363636   11.136779    0.069170    0.554695    6.284341   \n",
       "std      8.593041   23.299396    6.853571    0.253743    0.115763    0.704882   \n",
       "min      0.006320    0.000000    0.460000    0.000000    0.385000    3.561000   \n",
       "25%      0.082100    0.000000    5.190000    0.000000    0.449000    5.884250   \n",
       "50%      0.259150    0.000000    9.690000    0.000000    0.538000    6.208500   \n",
       "75%      3.675945   12.500000   18.100000    0.000000    0.624000    6.623500   \n",
       "max     88.976200  100.000000   27.740000    1.000000    0.871000    8.780000   \n",
       "\n",
       "              AGE         DIS         RAD         TAX     PTRATIO           B  \\\n",
       "count  507.000000  507.000000  507.000000  507.000000  507.000000  507.000000   \n",
       "mean    68.574901    3.795043    9.549407  408.237154   18.455534  356.674032   \n",
       "std     28.121033    2.103628    8.698651  168.370495    2.162805   91.204607   \n",
       "min      2.900000    1.129600    1.000000  187.000000   12.600000    0.320000   \n",
       "25%     45.050000    2.100350    4.000000  279.000000   17.400000  375.270000   \n",
       "50%     77.300000    3.215700    5.000000  330.000000   19.000000  391.430000   \n",
       "75%     94.050000    5.164950   24.000000  666.000000   20.200000  396.220000   \n",
       "max    100.000000   12.126500   24.000000  711.000000   22.000000  396.900000   \n",
       "\n",
       "            LSTAT        MEDV  \n",
       "count  507.000000  507.000000  \n",
       "mean    12.653063   22.532806  \n",
       "std      7.134002    9.188012  \n",
       "min      1.730000    5.000000  \n",
       "25%      6.970000   17.050000  \n",
       "50%     11.380000   21.200000  \n",
       "75%     16.950000   25.000000  \n",
       "max     37.970000   50.000000  "
      ]
     },
     "execution_count": 5,
     "metadata": {},
     "output_type": "execute_result"
    }
   ],
   "source": [
    "df.describe()"
   ]
  },
  {
   "cell_type": "markdown",
   "id": "7968ad33-c056-41a2-879a-342b5d267b0c",
   "metadata": {},
   "source": [
    "MEDV is the price"
   ]
  },
  {
   "cell_type": "markdown",
   "id": "bce97960-f1c7-45ca-8d8b-786dd6026947",
   "metadata": {},
   "source": [
    "## Lokking for Correlations"
   ]
  },
  {
   "cell_type": "code",
   "execution_count": 6,
   "id": "e1b69958-5703-4c98-97fe-e602df279fbc",
   "metadata": {},
   "outputs": [
    {
     "data": {
      "text/plain": [
       "MEDV       1.000000\n",
       "RM         0.696169\n",
       "ZN         0.360445\n",
       "B          0.333461\n",
       "DIS        0.249929\n",
       "CHAS       0.175260\n",
       "AGE       -0.376955\n",
       "RAD       -0.381626\n",
       "CRIM      -0.388305\n",
       "NOX       -0.427321\n",
       "TAX       -0.468536\n",
       "INDUS     -0.483725\n",
       "PTRATIO   -0.507787\n",
       "LSTAT     -0.737663\n",
       "Name: MEDV, dtype: float64"
      ]
     },
     "execution_count": 6,
     "metadata": {},
     "output_type": "execute_result"
    }
   ],
   "source": [
    "corr_matrix = df.corr()\n",
    "corr_matrix['MEDV'].sort_values(ascending=False)"
   ]
  },
  {
   "cell_type": "code",
   "execution_count": 7,
   "id": "a33f57c8-3094-416d-9648-a87ae0c45f81",
   "metadata": {},
   "outputs": [],
   "source": [
    "from pandas.plotting import scatter_matrix"
   ]
  },
  {
   "cell_type": "code",
   "execution_count": 8,
   "id": "4b97432e-8929-44f8-8b7b-2a28d8f4acbd",
   "metadata": {},
   "outputs": [],
   "source": [
    "attributes = ['RM', 'MEDV', 'CHAS', 'LSTAT', 'PTRATIO']"
   ]
  },
  {
   "cell_type": "code",
   "execution_count": 9,
   "id": "26556985-2b37-4917-bf61-f7081b4d69b2",
   "metadata": {},
   "outputs": [
    {
     "data": {
      "text/plain": [
       "array([[<Axes: xlabel='RM', ylabel='RM'>,\n",
       "        <Axes: xlabel='MEDV', ylabel='RM'>,\n",
       "        <Axes: xlabel='CHAS', ylabel='RM'>,\n",
       "        <Axes: xlabel='LSTAT', ylabel='RM'>,\n",
       "        <Axes: xlabel='PTRATIO', ylabel='RM'>],\n",
       "       [<Axes: xlabel='RM', ylabel='MEDV'>,\n",
       "        <Axes: xlabel='MEDV', ylabel='MEDV'>,\n",
       "        <Axes: xlabel='CHAS', ylabel='MEDV'>,\n",
       "        <Axes: xlabel='LSTAT', ylabel='MEDV'>,\n",
       "        <Axes: xlabel='PTRATIO', ylabel='MEDV'>],\n",
       "       [<Axes: xlabel='RM', ylabel='CHAS'>,\n",
       "        <Axes: xlabel='MEDV', ylabel='CHAS'>,\n",
       "        <Axes: xlabel='CHAS', ylabel='CHAS'>,\n",
       "        <Axes: xlabel='LSTAT', ylabel='CHAS'>,\n",
       "        <Axes: xlabel='PTRATIO', ylabel='CHAS'>],\n",
       "       [<Axes: xlabel='RM', ylabel='LSTAT'>,\n",
       "        <Axes: xlabel='MEDV', ylabel='LSTAT'>,\n",
       "        <Axes: xlabel='CHAS', ylabel='LSTAT'>,\n",
       "        <Axes: xlabel='LSTAT', ylabel='LSTAT'>,\n",
       "        <Axes: xlabel='PTRATIO', ylabel='LSTAT'>],\n",
       "       [<Axes: xlabel='RM', ylabel='PTRATIO'>,\n",
       "        <Axes: xlabel='MEDV', ylabel='PTRATIO'>,\n",
       "        <Axes: xlabel='CHAS', ylabel='PTRATIO'>,\n",
       "        <Axes: xlabel='LSTAT', ylabel='PTRATIO'>,\n",
       "        <Axes: xlabel='PTRATIO', ylabel='PTRATIO'>]], dtype=object)"
      ]
     },
     "execution_count": 9,
     "metadata": {},
     "output_type": "execute_result"
    },
    {
     "data": {
      "image/png": "[encoded data removed]",
      "text/plain": [
       "<Figure size 640x480 with 25 Axes>"
      ]
     },
     "metadata": {},
     "output_type": "display_data"
    }
   ],
   "source": [
    "scatter_matrix(df[attributes], alpha=0.2)"
   ]
  },
  {
   "cell_type": "code",
   "execution_count": 10,
   "id": "c9cb0264-d467-41aa-8787-ac0e785ccfbb",
   "metadata": {},
   "outputs": [
    {
     "data": {
      "text/plain": [
       "<Axes: xlabel='RM', ylabel='MEDV'>"
      ]
     },
     "execution_count": 10,
     "metadata": {},
     "output_type": "execute_result"
    },
    {
     "data": {
      "image/png": "[encoded data removed]",
      "text/plain": [
       "<Figure size 640x480 with 1 Axes>"
      ]
     },
     "metadata": {},
     "output_type": "display_data"
    }
   ],
   "source": [
    "df.plot(kind='scatter', x='RM', y='MEDV', alpha=0.8)"
   ]
  },
  {
   "cell_type": "code",
   "execution_count": 11,
   "id": "b0b2fe74-673f-452c-870d-973d462db9f6",
   "metadata": {},
   "outputs": [
    {
     "data": {
      "text/plain": [
       "<Axes: xlabel='LSTAT', ylabel='MEDV'>"
      ]
     },
     "execution_count": 11,
     "metadata": {},
     "output_type": "execute_result"
    },
    {
     "data": {
      "image/png": "[encoded data removed]",
      "text/plain": [
       "<Figure size 640x480 with 1 Axes>"
      ]
     },
     "metadata": {},
     "output_type": "display_data"
    }
   ],
   "source": [
    "df.plot(kind='scatter', x='LSTAT', y='MEDV', alpha=0.8)"
   ]
  },
  {
   "cell_type": "markdown",
   "id": "a583e3b2-78d5-4d7f-9ebb-01ae46c734e8",
   "metadata": {},
   "source": [
    "## Fixing Missing Attributes"
   ]
  },
  {
   "cell_type": "code",
   "execution_count": 12,
   "id": "e95ef27b-ccd7-4164-b2e6-6a179f5b1117",
   "metadata": {},
   "outputs": [
    {
     "data": {
      "text/plain": [
       "0         6.575\n",
       "1         6.421\n",
       "2         7.185\n",
       "3         6.998\n",
       "4         7.147\n",
       "         ...   \n",
       "502        6.12\n",
       "503       6.976\n",
       "504       6.794\n",
       "505        6.03\n",
       "506    6.284341\n",
       "Name: RM, Length: 507, dtype: object"
      ]
     },
     "execution_count": 12,
     "metadata": {},
     "output_type": "execute_result"
    }
   ],
   "source": [
    "df['RM'].fillna(df['RM'].median)"
   ]
  },
  {
   "cell_type": "code",
   "execution_count": 13,
   "id": "3ef6f523-6181-47df-a619-4eff9dcb2c12",
   "metadata": {},
   "outputs": [],
   "source": [
    "from sklearn.impute import SimpleImputer"
   ]
  },
  {
   "cell_type": "code",
   "execution_count": 14,
   "id": "6104aef5-e260-43a4-9f37-06bae90de482",
   "metadata": {},
   "outputs": [],
   "source": [
    "imputer = SimpleImputer(strategy='median')"
   ]
  },
  {
   "cell_type": "code",
   "execution_count": 15,
   "id": "21551304-80e4-448f-903c-d56a888a5caa",
   "metadata": {},
   "outputs": [
    {
     "data": {
      "text/html": [
       "<style>#sk-container-id-1 {color: black;}#sk-container-id-1 pre{padding: 0;}#sk-container-id-1 div.sk-toggleable {background-color: white;}#sk-container-id-1 label.sk-toggleable__label {cursor: pointer;display: block;width: 100%;margin-bottom: 0;padding: 0.3em;box-sizing: border-box;text-align: center;}#sk-container-id-1 label.sk-toggleable__label-arrow:before {content: \"▸\";float: left;margin-right: 0.25em;color: #696969;}#sk-container-id-1 label.sk-toggleable__label-arrow:hover:before {color: black;}#sk-container-id-1 div.sk-estimator:hover label.sk-toggleable__label-arrow:before {color: black;}#sk-container-id-1 div.sk-toggleable__content {max-height: 0;max-width: 0;overflow: hidden;text-align: left;background-color: #f0f8ff;}#sk-container-id-1 div.sk-toggleable__content pre {margin: 0.2em;color: black;border-radius: 0.25em;background-color: #f0f8ff;}#sk-container-id-1 input.sk-toggleable__control:checked~div.sk-toggleable__content {max-height: 200px;max-width: 100%;overflow: auto;}#sk-container-id-1 input.sk-toggleable__control:checked~label.sk-toggleable__label-arrow:before {content: \"▾\";}#sk-container-id-1 div.sk-estimator input.sk-toggleable__control:checked~label.sk-toggleable__label {background-color: #d4ebff;}#sk-container-id-1 div.sk-label input.sk-toggleable__control:checked~label.sk-toggleable__label {background-color: #d4ebff;}#sk-container-id-1 input.sk-hidden--visually {border: 0;clip: rect(1px 1px 1px 1px);clip: rect(1px, 1px, 1px, 1px);height: 1px;margin: -1px;overflow: hidden;padding: 0;position: absolute;width: 1px;}#sk-container-id-1 div.sk-estimator {font-family: monospace;background-color: #f0f8ff;border: 1px dotted black;border-radius: 0.25em;box-sizing: border-box;margin-bottom: 0.5em;}#sk-container-id-1 div.sk-estimator:hover {background-color: #d4ebff;}#sk-container-id-1 div.sk-parallel-item::after {content: \"\";width: 100%;border-bottom: 1px solid gray;flex-grow: 1;}#sk-container-id-1 div.sk-label:hover label.sk-toggleable__label {background-color: #d4ebff;}#sk-container-id-1 div.sk-serial::before {content: \"\";position: absolute;border-left: 1px solid gray;box-sizing: border-box;top: 0;bottom: 0;left: 50%;z-index: 0;}#sk-container-id-1 div.sk-serial {display: flex;flex-direction: column;align-items: center;background-color: white;padding-right: 0.2em;padding-left: 0.2em;position: relative;}#sk-container-id-1 div.sk-item {position: relative;z-index: 1;}#sk-container-id-1 div.sk-parallel {display: flex;align-items: stretch;justify-content: center;background-color: white;position: relative;}#sk-container-id-1 div.sk-item::before, #sk-container-id-1 div.sk-parallel-item::before {content: \"\";position: absolute;border-left: 1px solid gray;box-sizing: border-box;top: 0;bottom: 0;left: 50%;z-index: -1;}#sk-container-id-1 div.sk-parallel-item {display: flex;flex-direction: column;z-index: 1;position: relative;background-color: white;}#sk-container-id-1 div.sk-parallel-item:first-child::after {align-self: flex-end;width: 50%;}#sk-container-id-1 div.sk-parallel-item:last-child::after {align-self: flex-start;width: 50%;}#sk-container-id-1 div.sk-parallel-item:only-child::after {width: 0;}#sk-container-id-1 div.sk-dashed-wrapped {border: 1px dashed gray;margin: 0 0.4em 0.5em 0.4em;box-sizing: border-box;padding-bottom: 0.4em;background-color: white;}#sk-container-id-1 div.sk-label label {font-family: monospace;font-weight: bold;display: inline-block;line-height: 1.2em;}#sk-container-id-1 div.sk-label-container {text-align: center;}#sk-container-id-1 div.sk-container {/* jupyter's `normalize.less` sets `[hidden] { display: none; }` but bootstrap.min.css set `[hidden] { display: none !important; }` so we also need the `!important` here to be able to override the default hidden behavior on the sphinx rendered scikit-learn.org. See: https://github.com/scikit-learn/scikit-learn/issues/21755 */display: inline-block !important;position: relative;}#sk-container-id-1 div.sk-text-repr-fallback {display: none;}</style><div id=\"sk-container-id-1\" class=\"sk-top-container\"><div class=\"sk-text-repr-fallback\"><pre>SimpleImputer(strategy=&#x27;median&#x27;)</pre><b>In a Jupyter environment, please rerun this cell to show the HTML representation or trust the notebook. <br />On GitHub, the HTML representation is unable to render, please try loading this page with nbviewer.org.</b></div><div class=\"sk-container\" hidden><div class=\"sk-item\"><div class=\"sk-estimator sk-toggleable\"><input class=\"sk-toggleable__control sk-hidden--visually\" id=\"sk-estimator-id-1\" type=\"checkbox\" checked><label for=\"sk-estimator-id-1\" class=\"sk-toggleable__label sk-toggleable__label-arrow\">SimpleImputer</label><div class=\"sk-toggleable__content\"><pre>SimpleImputer(strategy=&#x27;median&#x27;)</pre></div></div></div></div></div>"
      ],
      "text/plain": [
       "SimpleImputer(strategy='median')"
      ]
     },
     "execution_count": 15,
     "metadata": {},
     "output_type": "execute_result"
    }
   ],
   "source": [
    "imputer.fit(df)"
   ]
  },
  {
   "cell_type": "code",
   "execution_count": 16,
   "id": "e0a917bf-367f-402f-93ba-36d9221ec47e",
   "metadata": {},
   "outputs": [
    {
     "name": "stdout",
     "output_type": "stream",
     "text": [
      "<class 'pandas.core.frame.DataFrame'>\n",
      "RangeIndex: 507 entries, 0 to 506\n",
      "Data columns (total 14 columns):\n",
      " #   Column   Non-Null Count  Dtype  \n",
      "---  ------   --------------  -----  \n",
      " 0   CRIM     507 non-null    float64\n",
      " 1   ZN       507 non-null    float64\n",
      " 2   INDUS    507 non-null    float64\n",
      " 3   CHAS     507 non-null    float64\n",
      " 4   NOX      507 non-null    float64\n",
      " 5   RM       502 non-null    float64\n",
      " 6   AGE      507 non-null    float64\n",
      " 7   DIS      507 non-null    float64\n",
      " 8   RAD      507 non-null    float64\n",
      " 9   TAX      507 non-null    float64\n",
      " 10  PTRATIO  507 non-null    float64\n",
      " 11  B        507 non-null    float64\n",
      " 12  LSTAT    507 non-null    float64\n",
      " 13  MEDV     507 non-null    float64\n",
      "dtypes: float64(14)\n",
      "memory usage: 55.6 KB\n"
     ]
    }
   ],
   "source": [
    "df.info()"
   ]
  },
  {
   "cell_type": "code",
   "execution_count": 17,
   "id": "fc01765d-e1a8-4cad-9ea9-168d46c8cbe6",
   "metadata": {},
   "outputs": [
    {
     "data": {
      "text/plain": [
       "(14,)"
      ]
     },
     "execution_count": 17,
     "metadata": {},
     "output_type": "execute_result"
    }
   ],
   "source": [
    "imputer.statistics_.shape"
   ]
  },
  {
   "cell_type": "code",
   "execution_count": 18,
   "id": "4d7338dc-d3a9-4276-9c0c-2cef7732528d",
   "metadata": {},
   "outputs": [],
   "source": [
    "housing = imputer.transform(df)"
   ]
  },
  {
   "cell_type": "code",
   "execution_count": 19,
   "id": "8cb0e53b-8316-4b6b-aa28-357cdc37e382",
   "metadata": {},
   "outputs": [],
   "source": [
    "housing = pd.DataFrame(housing, columns=df.columns)"
   ]
  },
  {
   "cell_type": "code",
   "execution_count": 20,
   "id": "24763e1a-4c35-4942-b12d-b9f4efea3226",
   "metadata": {},
   "outputs": [
    {
     "data": {
      "text/html": [
       "<div>\n",
       "<style scoped>\n",
       "    .dataframe tbody tr th:only-of-type {\n",
       "        vertical-align: middle;\n",
       "    }\n",
       "\n",
       "    .dataframe tbody tr th {\n",
       "        vertical-align: top;\n",
       "    }\n",
       "\n",
       "    .dataframe thead th {\n",
       "        text-align: right;\n",
       "    }\n",
       "</style>\n",
       "<table border=\"1\" class=\"dataframe\">\n",
       "  <thead>\n",
       "    <tr style=\"text-align: right;\">\n",
       "      <th></th>\n",
       "      <th>CRIM</th>\n",
       "      <th>ZN</th>\n",
       "      <th>INDUS</th>\n",
       "      <th>CHAS</th>\n",
       "      <th>NOX</th>\n",
       "      <th>RM</th>\n",
       "      <th>AGE</th>\n",
       "      <th>DIS</th>\n",
       "      <th>RAD</th>\n",
       "      <th>TAX</th>\n",
       "      <th>PTRATIO</th>\n",
       "      <th>B</th>\n",
       "      <th>LSTAT</th>\n",
       "      <th>MEDV</th>\n",
       "    </tr>\n",
       "  </thead>\n",
       "  <tbody>\n",
       "    <tr>\n",
       "      <th>0</th>\n",
       "      <td>0.006320</td>\n",
       "      <td>18.000000</td>\n",
       "      <td>2.310000</td>\n",
       "      <td>0.00000</td>\n",
       "      <td>0.538000</td>\n",
       "      <td>6.575000</td>\n",
       "      <td>65.200000</td>\n",
       "      <td>4.090000</td>\n",
       "      <td>1.000000</td>\n",
       "      <td>296.000000</td>\n",
       "      <td>15.300000</td>\n",
       "      <td>396.900000</td>\n",
       "      <td>4.980000</td>\n",
       "      <td>24.000000</td>\n",
       "    </tr>\n",
       "    <tr>\n",
       "      <th>1</th>\n",
       "      <td>0.027310</td>\n",
       "      <td>0.000000</td>\n",
       "      <td>7.070000</td>\n",
       "      <td>0.00000</td>\n",
       "      <td>0.469000</td>\n",
       "      <td>6.421000</td>\n",
       "      <td>78.900000</td>\n",
       "      <td>4.967100</td>\n",
       "      <td>2.000000</td>\n",
       "      <td>242.000000</td>\n",
       "      <td>17.800000</td>\n",
       "      <td>396.900000</td>\n",
       "      <td>9.140000</td>\n",
       "      <td>21.600000</td>\n",
       "    </tr>\n",
       "    <tr>\n",
       "      <th>2</th>\n",
       "      <td>0.027290</td>\n",
       "      <td>0.000000</td>\n",
       "      <td>7.070000</td>\n",
       "      <td>0.00000</td>\n",
       "      <td>0.469000</td>\n",
       "      <td>7.185000</td>\n",
       "      <td>61.100000</td>\n",
       "      <td>4.967100</td>\n",
       "      <td>2.000000</td>\n",
       "      <td>242.000000</td>\n",
       "      <td>17.800000</td>\n",
       "      <td>392.830000</td>\n",
       "      <td>4.030000</td>\n",
       "      <td>34.700000</td>\n",
       "    </tr>\n",
       "    <tr>\n",
       "      <th>3</th>\n",
       "      <td>0.032370</td>\n",
       "      <td>0.000000</td>\n",
       "      <td>2.180000</td>\n",
       "      <td>0.00000</td>\n",
       "      <td>0.458000</td>\n",
       "      <td>6.998000</td>\n",
       "      <td>45.800000</td>\n",
       "      <td>6.062200</td>\n",
       "      <td>3.000000</td>\n",
       "      <td>222.000000</td>\n",
       "      <td>18.700000</td>\n",
       "      <td>394.630000</td>\n",
       "      <td>2.940000</td>\n",
       "      <td>33.400000</td>\n",
       "    </tr>\n",
       "    <tr>\n",
       "      <th>4</th>\n",
       "      <td>0.069050</td>\n",
       "      <td>0.000000</td>\n",
       "      <td>2.180000</td>\n",
       "      <td>0.00000</td>\n",
       "      <td>0.458000</td>\n",
       "      <td>7.147000</td>\n",
       "      <td>54.200000</td>\n",
       "      <td>6.062200</td>\n",
       "      <td>3.000000</td>\n",
       "      <td>222.000000</td>\n",
       "      <td>18.700000</td>\n",
       "      <td>396.900000</td>\n",
       "      <td>5.330000</td>\n",
       "      <td>36.200000</td>\n",
       "    </tr>\n",
       "    <tr>\n",
       "      <th>...</th>\n",
       "      <td>...</td>\n",
       "      <td>...</td>\n",
       "      <td>...</td>\n",
       "      <td>...</td>\n",
       "      <td>...</td>\n",
       "      <td>...</td>\n",
       "      <td>...</td>\n",
       "      <td>...</td>\n",
       "      <td>...</td>\n",
       "      <td>...</td>\n",
       "      <td>...</td>\n",
       "      <td>...</td>\n",
       "      <td>...</td>\n",
       "      <td>...</td>\n",
       "    </tr>\n",
       "    <tr>\n",
       "      <th>502</th>\n",
       "      <td>0.045270</td>\n",
       "      <td>0.000000</td>\n",
       "      <td>11.930000</td>\n",
       "      <td>0.00000</td>\n",
       "      <td>0.573000</td>\n",
       "      <td>6.120000</td>\n",
       "      <td>76.700000</td>\n",
       "      <td>2.287500</td>\n",
       "      <td>1.000000</td>\n",
       "      <td>273.000000</td>\n",
       "      <td>21.000000</td>\n",
       "      <td>396.900000</td>\n",
       "      <td>9.080000</td>\n",
       "      <td>20.600000</td>\n",
       "    </tr>\n",
       "    <tr>\n",
       "      <th>503</th>\n",
       "      <td>0.060760</td>\n",
       "      <td>0.000000</td>\n",
       "      <td>11.930000</td>\n",
       "      <td>0.00000</td>\n",
       "      <td>0.573000</td>\n",
       "      <td>6.976000</td>\n",
       "      <td>91.000000</td>\n",
       "      <td>2.167500</td>\n",
       "      <td>1.000000</td>\n",
       "      <td>273.000000</td>\n",
       "      <td>21.000000</td>\n",
       "      <td>396.900000</td>\n",
       "      <td>5.640000</td>\n",
       "      <td>23.900000</td>\n",
       "    </tr>\n",
       "    <tr>\n",
       "      <th>504</th>\n",
       "      <td>0.109590</td>\n",
       "      <td>0.000000</td>\n",
       "      <td>11.930000</td>\n",
       "      <td>0.00000</td>\n",
       "      <td>0.573000</td>\n",
       "      <td>6.794000</td>\n",
       "      <td>89.300000</td>\n",
       "      <td>2.388900</td>\n",
       "      <td>1.000000</td>\n",
       "      <td>273.000000</td>\n",
       "      <td>21.000000</td>\n",
       "      <td>393.450000</td>\n",
       "      <td>6.480000</td>\n",
       "      <td>22.000000</td>\n",
       "    </tr>\n",
       "    <tr>\n",
       "      <th>505</th>\n",
       "      <td>0.047410</td>\n",
       "      <td>0.000000</td>\n",
       "      <td>11.930000</td>\n",
       "      <td>0.00000</td>\n",
       "      <td>0.573000</td>\n",
       "      <td>6.030000</td>\n",
       "      <td>80.800000</td>\n",
       "      <td>2.505000</td>\n",
       "      <td>1.000000</td>\n",
       "      <td>273.000000</td>\n",
       "      <td>21.000000</td>\n",
       "      <td>396.900000</td>\n",
       "      <td>7.880000</td>\n",
       "      <td>11.900000</td>\n",
       "    </tr>\n",
       "    <tr>\n",
       "      <th>506</th>\n",
       "      <td>3.613524</td>\n",
       "      <td>11.363636</td>\n",
       "      <td>11.136779</td>\n",
       "      <td>0.06917</td>\n",
       "      <td>0.554695</td>\n",
       "      <td>6.284341</td>\n",
       "      <td>68.574901</td>\n",
       "      <td>3.795043</td>\n",
       "      <td>9.549407</td>\n",
       "      <td>408.237154</td>\n",
       "      <td>18.455534</td>\n",
       "      <td>356.674032</td>\n",
       "      <td>12.653063</td>\n",
       "      <td>22.532806</td>\n",
       "    </tr>\n",
       "  </tbody>\n",
       "</table>\n",
       "<p>507 rows × 14 columns</p>\n",
       "</div>"
      ],
      "text/plain": [
       "         CRIM         ZN      INDUS     CHAS       NOX        RM        AGE  \\\n",
       "0    0.006320  18.000000   2.310000  0.00000  0.538000  6.575000  65.200000   \n",
       "1    0.027310   0.000000   7.070000  0.00000  0.469000  6.421000  78.900000   \n",
       "2    0.027290   0.000000   7.070000  0.00000  0.469000  7.185000  61.100000   \n",
       "3    0.032370   0.000000   2.180000  0.00000  0.458000  6.998000  45.800000   \n",
       "4    0.069050   0.000000   2.180000  0.00000  0.458000  7.147000  54.200000   \n",
       "..        ...        ...        ...      ...       ...       ...        ...   \n",
       "502  0.045270   0.000000  11.930000  0.00000  0.573000  6.120000  76.700000   \n",
       "503  0.060760   0.000000  11.930000  0.00000  0.573000  6.976000  91.000000   \n",
       "504  0.109590   0.000000  11.930000  0.00000  0.573000  6.794000  89.300000   \n",
       "505  0.047410   0.000000  11.930000  0.00000  0.573000  6.030000  80.800000   \n",
       "506  3.613524  11.363636  11.136779  0.06917  0.554695  6.284341  68.574901   \n",
       "\n",
       "          DIS       RAD         TAX    PTRATIO           B      LSTAT  \\\n",
       "0    4.090000  1.000000  296.000000  15.300000  396.900000   4.980000   \n",
       "1    4.967100  2.000000  242.000000  17.800000  396.900000   9.140000   \n",
       "2    4.967100  2.000000  242.000000  17.800000  392.830000   4.030000   \n",
       "3    6.062200  3.000000  222.000000  18.700000  394.630000   2.940000   \n",
       "4    6.062200  3.000000  222.000000  18.700000  396.900000   5.330000   \n",
       "..        ...       ...         ...        ...         ...        ...   \n",
       "502  2.287500  1.000000  273.000000  21.000000  396.900000   9.080000   \n",
       "503  2.167500  1.000000  273.000000  21.000000  396.900000   5.640000   \n",
       "504  2.388900  1.000000  273.000000  21.000000  393.450000   6.480000   \n",
       "505  2.505000  1.000000  273.000000  21.000000  396.900000   7.880000   \n",
       "506  3.795043  9.549407  408.237154  18.455534  356.674032  12.653063   \n",
       "\n",
       "          MEDV  \n",
       "0    24.000000  \n",
       "1    21.600000  \n",
       "2    34.700000  \n",
       "3    33.400000  \n",
       "4    36.200000  \n",
       "..         ...  \n",
       "502  20.600000  \n",
       "503  23.900000  \n",
       "504  22.000000  \n",
       "505  11.900000  \n",
       "506  22.532806  \n",
       "\n",
       "[507 rows x 14 columns]"
      ]
     },
     "execution_count": 20,
     "metadata": {},
     "output_type": "execute_result"
    }
   ],
   "source": [
    "housing"
   ]
  },
  {
   "cell_type": "code",
   "execution_count": 21,
   "id": "bea2059f-81aa-46e0-848c-eaa21b3ebc6a",
   "metadata": {},
   "outputs": [
    {
     "name": "stdout",
     "output_type": "stream",
     "text": [
      "<class 'pandas.core.frame.DataFrame'>\n",
      "RangeIndex: 507 entries, 0 to 506\n",
      "Data columns (total 14 columns):\n",
      " #   Column   Non-Null Count  Dtype  \n",
      "---  ------   --------------  -----  \n",
      " 0   CRIM     507 non-null    float64\n",
      " 1   ZN       507 non-null    float64\n",
      " 2   INDUS    507 non-null    float64\n",
      " 3   CHAS     507 non-null    float64\n",
      " 4   NOX      507 non-null    float64\n",
      " 5   RM       507 non-null    float64\n",
      " 6   AGE      507 non-null    float64\n",
      " 7   DIS      507 non-null    float64\n",
      " 8   RAD      507 non-null    float64\n",
      " 9   TAX      507 non-null    float64\n",
      " 10  PTRATIO  507 non-null    float64\n",
      " 11  B        507 non-null    float64\n",
      " 12  LSTAT    507 non-null    float64\n",
      " 13  MEDV     507 non-null    float64\n",
      "dtypes: float64(14)\n",
      "memory usage: 55.6 KB\n"
     ]
    }
   ],
   "source": [
    "housing.info()"
   ]
  },
  {
   "cell_type": "code",
   "execution_count": 22,
   "id": "7314ae1a-b199-459a-80a8-34a54ace098c",
   "metadata": {},
   "outputs": [
    {
     "data": {
      "text/plain": [
       "0      6.575000\n",
       "1      6.421000\n",
       "2      7.185000\n",
       "3      6.998000\n",
       "4      7.147000\n",
       "         ...   \n",
       "502    6.120000\n",
       "503    6.976000\n",
       "504    6.794000\n",
       "505    6.030000\n",
       "506    6.284341\n",
       "Name: RM, Length: 507, dtype: float64"
      ]
     },
     "execution_count": 22,
     "metadata": {},
     "output_type": "execute_result"
    }
   ],
   "source": [
    "housing['RM']"
   ]
  },
  {
   "cell_type": "markdown",
   "id": "f75d3aac-4c31-45bc-bf8f-1bc21fed2712",
   "metadata": {},
   "source": [
    "## Train Test Splitting"
   ]
  },
  {
   "cell_type": "code",
   "execution_count": 23,
   "id": "c866f258-89ce-4ab6-a7a6-21e3821972ba",
   "metadata": {},
   "outputs": [],
   "source": [
    "from sklearn.model_selection import train_test_split\n",
    "import numpy as np"
   ]
  },
  {
   "cell_type": "code",
   "execution_count": 24,
   "id": "28d7f681-0644-4ff0-bbc9-f57ee3a36a2a",
   "metadata": {},
   "outputs": [],
   "source": [
    "train_set, test_set = train_test_split(housing, test_size=0.2, shuffle=True)"
   ]
  },
  {
   "cell_type": "code",
   "execution_count": 25,
   "id": "c8bb4f4a-b0cf-4525-89ef-041aca0bd7c7",
   "metadata": {},
   "outputs": [
    {
     "name": "stdout",
     "output_type": "stream",
     "text": [
      "<class 'pandas.core.frame.DataFrame'>\n",
      "Index: 405 entries, 466 to 235\n",
      "Data columns (total 14 columns):\n",
      " #   Column   Non-Null Count  Dtype  \n",
      "---  ------   --------------  -----  \n",
      " 0   CRIM     405 non-null    float64\n",
      " 1   ZN       405 non-null    float64\n",
      " 2   INDUS    405 non-null    float64\n",
      " 3   CHAS     405 non-null    float64\n",
      " 4   NOX      405 non-null    float64\n",
      " 5   RM       405 non-null    float64\n",
      " 6   AGE      405 non-null    float64\n",
      " 7   DIS      405 non-null    float64\n",
      " 8   RAD      405 non-null    float64\n",
      " 9   TAX      405 non-null    float64\n",
      " 10  PTRATIO  405 non-null    float64\n",
      " 11  B        405 non-null    float64\n",
      " 12  LSTAT    405 non-null    float64\n",
      " 13  MEDV     405 non-null    float64\n",
      "dtypes: float64(14)\n",
      "memory usage: 47.5 KB\n"
     ]
    }
   ],
   "source": [
    "train_set.info()"
   ]
  },
  {
   "cell_type": "code",
   "execution_count": 26,
   "id": "940d333d-3e7e-4723-a6e8-7b6425b58334",
   "metadata": {},
   "outputs": [
    {
     "name": "stdout",
     "output_type": "stream",
     "text": [
      "<class 'pandas.core.frame.DataFrame'>\n",
      "Index: 102 entries, 11 to 393\n",
      "Data columns (total 14 columns):\n",
      " #   Column   Non-Null Count  Dtype  \n",
      "---  ------   --------------  -----  \n",
      " 0   CRIM     102 non-null    float64\n",
      " 1   ZN       102 non-null    float64\n",
      " 2   INDUS    102 non-null    float64\n",
      " 3   CHAS     102 non-null    float64\n",
      " 4   NOX      102 non-null    float64\n",
      " 5   RM       102 non-null    float64\n",
      " 6   AGE      102 non-null    float64\n",
      " 7   DIS      102 non-null    float64\n",
      " 8   RAD      102 non-null    float64\n",
      " 9   TAX      102 non-null    float64\n",
      " 10  PTRATIO  102 non-null    float64\n",
      " 11  B        102 non-null    float64\n",
      " 12  LSTAT    102 non-null    float64\n",
      " 13  MEDV     102 non-null    float64\n",
      "dtypes: float64(14)\n",
      "memory usage: 12.0 KB\n"
     ]
    }
   ],
   "source": [
    "test_set.info()"
   ]
  },
  {
   "cell_type": "markdown",
   "id": "79e08cb8-763e-4c96-ae6b-a178f105499e",
   "metadata": {},
   "source": [
    "## Creating a Pipeline"
   ]
  },
  {
   "cell_type": "code",
   "execution_count": 27,
   "id": "5614ed60-bfaa-4049-9a5b-37c8a83f8a84",
   "metadata": {},
   "outputs": [],
   "source": [
    "from sklearn.pipeline import Pipeline\n",
    "from sklearn.preprocessing import StandardScaler"
   ]
  },
  {
   "cell_type": "code",
   "execution_count": 28,
   "id": "554aeaa3-3fb0-4e3e-88fa-5b950d27e2c1",
   "metadata": {},
   "outputs": [],
   "source": [
    "myPipeLine = Pipeline([\n",
    "    ('imputer', SimpleImputer(strategy='median')),\n",
    "    ('Std_Scalar', StandardScaler())\n",
    "])"
   ]
  },
  {
   "cell_type": "code",
   "execution_count": 29,
   "id": "6c316db1-f544-4d86-adaf-d043fefc18a2",
   "metadata": {},
   "outputs": [
    {
     "name": "stdout",
     "output_type": "stream",
     "text": [
      "         CRIM         ZN      INDUS     CHAS       NOX        RM        AGE  \\\n",
      "0    0.006320  18.000000   2.310000  0.00000  0.538000  6.575000  65.200000   \n",
      "1    0.027310   0.000000   7.070000  0.00000  0.469000  6.421000  78.900000   \n",
      "2    0.027290   0.000000   7.070000  0.00000  0.469000  7.185000  61.100000   \n",
      "3    0.032370   0.000000   2.180000  0.00000  0.458000  6.998000  45.800000   \n",
      "4    0.069050   0.000000   2.180000  0.00000  0.458000  7.147000  54.200000   \n",
      "..        ...        ...        ...      ...       ...       ...        ...   \n",
      "502  0.045270   0.000000  11.930000  0.00000  0.573000  6.120000  76.700000   \n",
      "503  0.060760   0.000000  11.930000  0.00000  0.573000  6.976000  91.000000   \n",
      "504  0.109590   0.000000  11.930000  0.00000  0.573000  6.794000  89.300000   \n",
      "505  0.047410   0.000000  11.930000  0.00000  0.573000  6.030000  80.800000   \n",
      "506  3.613524  11.363636  11.136779  0.06917  0.554695  6.284341  68.574901   \n",
      "\n",
      "          DIS       RAD         TAX    PTRATIO           B      LSTAT  \\\n",
      "0    4.090000  1.000000  296.000000  15.300000  396.900000   4.980000   \n",
      "1    4.967100  2.000000  242.000000  17.800000  396.900000   9.140000   \n",
      "2    4.967100  2.000000  242.000000  17.800000  392.830000   4.030000   \n",
      "3    6.062200  3.000000  222.000000  18.700000  394.630000   2.940000   \n",
      "4    6.062200  3.000000  222.000000  18.700000  396.900000   5.330000   \n",
      "..        ...       ...         ...        ...         ...        ...   \n",
      "502  2.287500  1.000000  273.000000  21.000000  396.900000   9.080000   \n",
      "503  2.167500  1.000000  273.000000  21.000000  396.900000   5.640000   \n",
      "504  2.388900  1.000000  273.000000  21.000000  393.450000   6.480000   \n",
      "505  2.505000  1.000000  273.000000  21.000000  396.900000   7.880000   \n",
      "506  3.795043  9.549407  408.237154  18.455534  356.674032  12.653063   \n",
      "\n",
      "          MEDV  \n",
      "0    24.000000  \n",
      "1    21.600000  \n",
      "2    34.700000  \n",
      "3    33.400000  \n",
      "4    36.200000  \n",
      "..         ...  \n",
      "502  20.600000  \n",
      "503  23.900000  \n",
      "504  22.000000  \n",
      "505  11.900000  \n",
      "506  22.532806  \n",
      "\n",
      "[507 rows x 14 columns]\n",
      "[[-0.42019654  0.28511117 -1.28918151 ... -1.46044137  0.44148754\n",
      "  -1.07662459]\n",
      " [-0.41775145 -0.48820407 -0.59396707 ... -0.3033935   0.44148754\n",
      "  -0.49292573]\n",
      " [-0.41775378 -0.48820407 -0.59396707 ... -0.3033935   0.39681853\n",
      "  -1.2099212 ]\n",
      " ...\n",
      " [-0.4081668  -0.48820407  0.11585272 ...  1.17762777  0.40362314\n",
      "  -0.86615625]\n",
      " [-0.41541004 -0.48820407  0.11585272 ...  1.17762777  0.44148754\n",
      "  -0.66971913]\n",
      " [-0.         -0.          0.         ...  0.         -0.\n",
      "  -0.        ]]\n"
     ]
    }
   ],
   "source": [
    "housing_tr = housing.drop('MEDV', axis=1)\n",
    "housing_num_tr = myPipeLine.fit_transform(housing_tr)\n",
    "np.set_printoptions(suppress=True)\n",
    "print(housing)\n",
    "print(housing_num_tr)"
   ]
  },
  {
   "cell_type": "code",
   "execution_count": 30,
   "id": "fddb372b-01e3-482c-8938-0631278ad549",
   "metadata": {},
   "outputs": [
    {
     "name": "stdout",
     "output_type": "stream",
     "text": [
      "[24.         21.6        34.7        33.4        36.2        28.7\n",
      " 22.9        27.1        16.5        18.9        15.         18.9\n",
      " 21.7        20.4        18.2        19.9        23.1        17.5\n",
      " 20.2        18.2        13.6        19.6        15.2        14.5\n",
      " 15.6        13.9        16.6        14.8        18.4        21.\n",
      " 12.7        14.5        13.2        13.1        13.5        18.9\n",
      " 20.         21.         24.7        30.8        34.9        26.6\n",
      " 25.3        24.7        21.2        19.3        20.         16.6\n",
      " 14.4        19.4        19.7        20.5        25.         23.4\n",
      " 18.9        35.4        24.7        31.6        23.3        19.6\n",
      " 18.7        16.         22.2        25.         33.         23.5\n",
      " 19.4        22.         17.4        20.9        24.2        21.7\n",
      " 22.8        23.4        24.1        21.4        20.         20.8\n",
      " 21.2        20.3        28.         23.9        24.8        22.9\n",
      " 23.9        26.6        22.5        22.2        23.6        28.7\n",
      " 22.6        22.         22.9        25.         20.6        28.4\n",
      " 21.4        38.7        43.8        33.2        27.5        26.5\n",
      " 18.6        19.3        20.1        19.5        19.5        20.4\n",
      " 19.8        19.4        21.7        22.8        18.8        18.7\n",
      " 18.5        18.3        21.2        19.2        20.4        19.3\n",
      " 22.         20.3        20.5        17.3        18.8        21.4\n",
      " 15.7        16.2        18.         14.3        19.2        19.6\n",
      " 23.         18.4        15.6        18.1        17.4        17.1\n",
      " 13.3        17.8        14.         14.4        13.4        15.6\n",
      " 11.8        13.8        15.6        14.6        17.8        15.4\n",
      " 21.5        19.6        15.3        19.4        17.         15.6\n",
      " 13.1        41.3        24.3        23.3        27.         50.\n",
      " 50.         50.         22.7        25.         50.         23.8\n",
      " 23.8        22.3        17.4        19.1        23.1        23.6\n",
      " 22.6        29.4        23.2        24.6        29.9        37.2\n",
      " 39.8        36.2        37.9        32.5        26.4        29.6\n",
      " 50.         32.         29.8        34.9        37.         30.5\n",
      " 36.4        31.1        29.1        50.         33.3        30.3\n",
      " 34.6        34.9        32.9        24.1        42.3        48.5\n",
      " 50.         22.6        24.4        22.5        24.4        20.\n",
      " 21.7        19.3        22.4        28.1        23.7        25.\n",
      " 23.3        28.7        21.5        23.         26.7        21.7\n",
      " 27.5        30.1        44.8        50.         37.6        31.6\n",
      " 46.7        31.5        24.3        31.7        41.7        48.3\n",
      " 29.         24.         25.1        31.5        23.7        23.3\n",
      " 22.         20.1        22.2        23.7        17.6        18.5\n",
      " 24.3        20.5        24.5        26.2        24.4        24.8\n",
      " 29.6        42.8        21.9        20.9        44.         50.\n",
      " 36.         30.1        33.8        43.1        48.8        31.\n",
      " 36.5        22.8        30.7        50.         43.5        20.7\n",
      " 21.1        25.2        24.4        35.2        32.4        32.\n",
      " 33.2        33.1        29.1        35.1        45.4        35.4\n",
      " 46.         50.         32.2        22.         20.1        23.2\n",
      " 22.3        24.8        28.5        37.3        27.9        23.9\n",
      " 21.7        28.6        27.1        20.3        22.5        29.\n",
      " 24.8        22.         26.4        33.1        36.1        28.4\n",
      " 33.4        28.2        22.8        20.3        16.1        22.1\n",
      " 19.4        21.6        23.8        16.2        17.8        19.8\n",
      " 23.1        21.         23.8        23.1        20.4        18.5\n",
      " 25.         24.6        23.         22.2        19.3        22.6\n",
      " 19.8        17.1        19.4        22.2        20.7        21.1\n",
      " 19.5        18.5        20.6        19.         18.7        32.7\n",
      " 16.5        23.9        31.2        17.5        17.2        23.1\n",
      " 24.5        26.6        22.9        24.1        18.6        30.1\n",
      " 18.2        20.6        17.8        21.7        22.7        22.6\n",
      " 25.         19.9        20.8        16.8        21.9        27.5\n",
      " 21.9        23.1        50.         50.         50.         50.\n",
      " 50.         13.8        13.8        15.         13.9        13.3\n",
      " 13.1        10.2        10.4        10.9        11.3        12.3\n",
      "  8.8         7.2        10.5         7.4        10.2        11.5\n",
      " 15.1        23.2         9.7        13.8        12.7        13.1\n",
      " 12.5         8.5         5.          6.3         5.6         7.2\n",
      " 12.1         8.3         8.5         5.         11.9        27.9\n",
      " 17.2        27.5        15.         17.2        17.9        16.3\n",
      "  7.          7.2         7.5        10.4         8.8         8.4\n",
      " 16.7        14.2        20.8        13.4        11.7         8.3\n",
      " 10.2        10.9        11.          9.5        14.5        14.1\n",
      " 16.1        14.3        11.7        13.4         9.6         8.7\n",
      "  8.4        12.8        10.5        17.1        18.4        15.4\n",
      " 10.8        11.8        14.9        12.6        14.1        13.\n",
      " 13.4        15.2        16.1        17.8        14.9        14.1\n",
      " 12.7        13.5        14.9        20.         16.4        17.7\n",
      " 19.5        20.2        21.4        19.9        19.         19.1\n",
      " 19.1        20.1        19.9        19.6        23.2        29.8\n",
      " 13.8        13.3        16.7        12.         14.6        21.4\n",
      " 23.         23.7        25.         21.8        20.6        21.2\n",
      " 19.1        20.6        15.2         7.          8.1        13.6\n",
      " 20.1        21.8        24.5        23.1        19.7        18.3\n",
      " 21.2        17.5        16.8        22.4        20.6        23.9\n",
      " 22.         11.9        22.53280632]\n"
     ]
    }
   ],
   "source": [
    "housing_labels = housing['MEDV'].to_numpy()\n",
    "print(housing_labels)"
   ]
  },
  {
   "cell_type": "code",
   "execution_count": 31,
   "id": "9a6d6e1c-a133-4264-867c-a7b218bca138",
   "metadata": {},
   "outputs": [
    {
     "data": {
      "text/plain": [
       "(507, 13)"
      ]
     },
     "execution_count": 31,
     "metadata": {},
     "output_type": "execute_result"
    }
   ],
   "source": [
    "housing_num_tr.shape"
   ]
  },
  {
   "cell_type": "markdown",
   "id": "c95bcbe7-1336-41da-9e0b-b5be450bf837",
   "metadata": {},
   "source": [
    "## Selecting and training model\n",
    "There are Three models for regression primarily\n",
    "1. Linear Regression\n",
    "2. Decision Tree Regression\n",
    "3. Random Forset Regressor"
   ]
  },
  {
   "cell_type": "code",
   "execution_count": 32,
   "id": "5a6b8e91",
   "metadata": {},
   "outputs": [
    {
     "data": {
      "text/html": [
       "<style>#sk-container-id-2 {color: black;}#sk-container-id-2 pre{padding: 0;}#sk-container-id-2 div.sk-toggleable {background-color: white;}#sk-container-id-2 label.sk-toggleable__label {cursor: pointer;display: block;width: 100%;margin-bottom: 0;padding: 0.3em;box-sizing: border-box;text-align: center;}#sk-container-id-2 label.sk-toggleable__label-arrow:before {content: \"▸\";float: left;margin-right: 0.25em;color: #696969;}#sk-container-id-2 label.sk-toggleable__label-arrow:hover:before {color: black;}#sk-container-id-2 div.sk-estimator:hover label.sk-toggleable__label-arrow:before {color: black;}#sk-container-id-2 div.sk-toggleable__content {max-height: 0;max-width: 0;overflow: hidden;text-align: left;background-color: #f0f8ff;}#sk-container-id-2 div.sk-toggleable__content pre {margin: 0.2em;color: black;border-radius: 0.25em;background-color: #f0f8ff;}#sk-container-id-2 input.sk-toggleable__control:checked~div.sk-toggleable__content {max-height: 200px;max-width: 100%;overflow: auto;}#sk-container-id-2 input.sk-toggleable__control:checked~label.sk-toggleable__label-arrow:before {content: \"▾\";}#sk-container-id-2 div.sk-estimator input.sk-toggleable__control:checked~label.sk-toggleable__label {background-color: #d4ebff;}#sk-container-id-2 div.sk-label input.sk-toggleable__control:checked~label.sk-toggleable__label {background-color: #d4ebff;}#sk-container-id-2 input.sk-hidden--visually {border: 0;clip: rect(1px 1px 1px 1px);clip: rect(1px, 1px, 1px, 1px);height: 1px;margin: -1px;overflow: hidden;padding: 0;position: absolute;width: 1px;}#sk-container-id-2 div.sk-estimator {font-family: monospace;background-color: #f0f8ff;border: 1px dotted black;border-radius: 0.25em;box-sizing: border-box;margin-bottom: 0.5em;}#sk-container-id-2 div.sk-estimator:hover {background-color: #d4ebff;}#sk-container-id-2 div.sk-parallel-item::after {content: \"\";width: 100%;border-bottom: 1px solid gray;flex-grow: 1;}#sk-container-id-2 div.sk-label:hover label.sk-toggleable__label {background-color: #d4ebff;}#sk-container-id-2 div.sk-serial::before {content: \"\";position: absolute;border-left: 1px solid gray;box-sizing: border-box;top: 0;bottom: 0;left: 50%;z-index: 0;}#sk-container-id-2 div.sk-serial {display: flex;flex-direction: column;align-items: center;background-color: white;padding-right: 0.2em;padding-left: 0.2em;position: relative;}#sk-container-id-2 div.sk-item {position: relative;z-index: 1;}#sk-container-id-2 div.sk-parallel {display: flex;align-items: stretch;justify-content: center;background-color: white;position: relative;}#sk-container-id-2 div.sk-item::before, #sk-container-id-2 div.sk-parallel-item::before {content: \"\";position: absolute;border-left: 1px solid gray;box-sizing: border-box;top: 0;bottom: 0;left: 50%;z-index: -1;}#sk-container-id-2 div.sk-parallel-item {display: flex;flex-direction: column;z-index: 1;position: relative;background-color: white;}#sk-container-id-2 div.sk-parallel-item:first-child::after {align-self: flex-end;width: 50%;}#sk-container-id-2 div.sk-parallel-item:last-child::after {align-self: flex-start;width: 50%;}#sk-container-id-2 div.sk-parallel-item:only-child::after {width: 0;}#sk-container-id-2 div.sk-dashed-wrapped {border: 1px dashed gray;margin: 0 0.4em 0.5em 0.4em;box-sizing: border-box;padding-bottom: 0.4em;background-color: white;}#sk-container-id-2 div.sk-label label {font-family: monospace;font-weight: bold;display: inline-block;line-height: 1.2em;}#sk-container-id-2 div.sk-label-container {text-align: center;}#sk-container-id-2 div.sk-container {/* jupyter's `normalize.less` sets `[hidden] { display: none; }` but bootstrap.min.css set `[hidden] { display: none !important; }` so we also need the `!important` here to be able to override the default hidden behavior on the sphinx rendered scikit-learn.org. See: https://github.com/scikit-learn/scikit-learn/issues/21755 */display: inline-block !important;position: relative;}#sk-container-id-2 div.sk-text-repr-fallback {display: none;}</style><div id=\"sk-container-id-2\" class=\"sk-top-container\"><div class=\"sk-text-repr-fallback\"><pre>RandomForestRegressor()</pre><b>In a Jupyter environment, please rerun this cell to show the HTML representation or trust the notebook. <br />On GitHub, the HTML representation is unable to render, please try loading this page with nbviewer.org.</b></div><div class=\"sk-container\" hidden><div class=\"sk-item\"><div class=\"sk-estimator sk-toggleable\"><input class=\"sk-toggleable__control sk-hidden--visually\" id=\"sk-estimator-id-2\" type=\"checkbox\" checked><label for=\"sk-estimator-id-2\" class=\"sk-toggleable__label sk-toggleable__label-arrow\">RandomForestRegressor</label><div class=\"sk-toggleable__content\"><pre>RandomForestRegressor()</pre></div></div></div></div></div>"
      ],
      "text/plain": [
       "RandomForestRegressor()"
      ]
     },
     "execution_count": 32,
     "metadata": {},
     "output_type": "execute_result"
    }
   ],
   "source": [
    "from sklearn.linear_model import LinearRegression\n",
    "from sklearn.tree import DecisionTreeRegressor\n",
    "from sklearn.ensemble import RandomForestRegressor\n",
    "\n",
    "model1 = LinearRegression()\n",
    "model1.fit(housing_num_tr, housing_labels)\n",
    "\n",
    "model2 = DecisionTreeRegressor()\n",
    "model2.fit(housing_num_tr, housing_labels)\n",
    "\n",
    "model3 = RandomForestRegressor()\n",
    "model3.fit(housing_num_tr, housing_labels)"
   ]
  },
  {
   "cell_type": "code",
   "execution_count": 33,
   "id": "e3c9fd46",
   "metadata": {},
   "outputs": [],
   "source": [
    "someData = housing_tr.iloc[:5]"
   ]
  },
  {
   "cell_type": "code",
   "execution_count": 34,
   "id": "8abe5540",
   "metadata": {},
   "outputs": [],
   "source": [
    "some_labels = housing_labels[:5]"
   ]
  },
  {
   "cell_type": "code",
   "execution_count": 35,
   "id": "2fbaa660",
   "metadata": {},
   "outputs": [],
   "source": [
    "prepared_data = myPipeLine.transform(someData)"
   ]
  },
  {
   "cell_type": "code",
   "execution_count": 36,
   "id": "93107516",
   "metadata": {},
   "outputs": [
    {
     "name": "stdout",
     "output_type": "stream",
     "text": [
      "      CRIM    ZN  INDUS  CHAS    NOX     RM   AGE     DIS  RAD    TAX  \\\n",
      "0  0.00632  18.0   2.31   0.0  0.538  6.575  65.2  4.0900  1.0  296.0   \n",
      "1  0.02731   0.0   7.07   0.0  0.469  6.421  78.9  4.9671  2.0  242.0   \n",
      "2  0.02729   0.0   7.07   0.0  0.469  7.185  61.1  4.9671  2.0  242.0   \n",
      "3  0.03237   0.0   2.18   0.0  0.458  6.998  45.8  6.0622  3.0  222.0   \n",
      "4  0.06905   0.0   2.18   0.0  0.458  7.147  54.2  6.0622  3.0  222.0   \n",
      "\n",
      "   PTRATIO       B  LSTAT  \n",
      "0     15.3  396.90   4.98  \n",
      "1     17.8  396.90   9.14  \n",
      "2     17.8  392.83   4.03  \n",
      "3     18.7  394.63   2.94  \n",
      "4     18.7  396.90   5.33  \n",
      "      CRIM    ZN  INDUS  CHAS    NOX     RM   AGE     DIS  RAD    TAX  \\\n",
      "0  0.00632  18.0   2.31   0.0  0.538  6.575  65.2  4.0900  1.0  296.0   \n",
      "1  0.02731   0.0   7.07   0.0  0.469  6.421  78.9  4.9671  2.0  242.0   \n",
      "2  0.02729   0.0   7.07   0.0  0.469  7.185  61.1  4.9671  2.0  242.0   \n",
      "3  0.03237   0.0   2.18   0.0  0.458  6.998  45.8  6.0622  3.0  222.0   \n",
      "4  0.06905   0.0   2.18   0.0  0.458  7.147  54.2  6.0622  3.0  222.0   \n",
      "\n",
      "   PTRATIO       B  LSTAT  MEDV  \n",
      "0     15.3  396.90   4.98  24.0  \n",
      "1     17.8  396.90   9.14  21.6  \n",
      "2     17.8  392.83   4.03  34.7  \n",
      "3     18.7  394.63   2.94  33.4  \n",
      "4     18.7  396.90   5.33  36.2  \n"
     ]
    }
   ],
   "source": [
    "print(someData)\n",
    "print(df.iloc[:5])"
   ]
  },
  {
   "cell_type": "code",
   "execution_count": 37,
   "id": "6c6ad05f",
   "metadata": {},
   "outputs": [
    {
     "data": {
      "text/plain": [
       "array([24. , 21.6, 34.7, 33.4, 36.2])"
      ]
     },
     "execution_count": 37,
     "metadata": {},
     "output_type": "execute_result"
    }
   ],
   "source": [
    "some_labels"
   ]
  },
  {
   "cell_type": "code",
   "execution_count": 38,
   "id": "b48f92ce",
   "metadata": {},
   "outputs": [
    {
     "data": {
      "text/plain": [
       "array([29.99663677, 25.04304813, 30.57188706, 28.61786874, 27.9540908 ])"
      ]
     },
     "execution_count": 38,
     "metadata": {},
     "output_type": "execute_result"
    }
   ],
   "source": [
    "model1.predict(prepared_data)"
   ]
  },
  {
   "cell_type": "code",
   "execution_count": 39,
   "id": "7a6d391a",
   "metadata": {},
   "outputs": [],
   "source": [
    "from sklearn.metrics import mean_squared_error"
   ]
  },
  {
   "cell_type": "code",
   "execution_count": 40,
   "id": "e307ab1c",
   "metadata": {},
   "outputs": [],
   "source": [
    "housing_prediction_lr = model1.predict(housing_num_tr)\n",
    "housing_prediction_dt = model2.predict(housing_num_tr)\n",
    "housing_prediction_rfr = model3.predict(housing_num_tr)"
   ]
  },
  {
   "cell_type": "code",
   "execution_count": 41,
   "id": "fceca6ea",
   "metadata": {},
   "outputs": [],
   "source": [
    "lin_mse = mean_squared_error(housing_labels, housing_prediction_lr)\n",
    "lin_rmse = np.sqrt(lin_mse)"
   ]
  },
  {
   "cell_type": "code",
   "execution_count": 42,
   "id": "9716365d",
   "metadata": {},
   "outputs": [
    {
     "name": "stdout",
     "output_type": "stream",
     "text": [
      "21.89805056643884\n",
      "4.679535293855453\n"
     ]
    }
   ],
   "source": [
    "print(lin_mse)\n",
    "print(lin_rmse)"
   ]
  },
  {
   "cell_type": "code",
   "execution_count": 43,
   "id": "6f559a7a",
   "metadata": {},
   "outputs": [],
   "source": [
    "dt_mse = mean_squared_error(housing_labels, housing_prediction_dt)\n",
    "dt_rmse = np.sqrt(dt_mse)"
   ]
  },
  {
   "cell_type": "code",
   "execution_count": 44,
   "id": "d9c958d5",
   "metadata": {},
   "outputs": [
    {
     "name": "stdout",
     "output_type": "stream",
     "text": [
      "0.0\n",
      "0.0\n"
     ]
    }
   ],
   "source": [
    "print(dt_mse)\n",
    "print(dt_rmse)"
   ]
  },
  {
   "cell_type": "code",
   "execution_count": 45,
   "id": "a2b0c358",
   "metadata": {},
   "outputs": [],
   "source": [
    "rfr_mse = mean_squared_error(housing_labels, housing_prediction_rfr)\n",
    "rfr_rmse = np.sqrt(rfr_mse)"
   ]
  },
  {
   "cell_type": "code",
   "execution_count": 46,
   "id": "e9fdc2f4-aceb-40e8-aeae-edbbbe9a1bac",
   "metadata": {},
   "outputs": [
    {
     "name": "stdout",
     "output_type": "stream",
     "text": [
      "1.3713035154910476\n",
      "1.1710266929028763\n"
     ]
    }
   ],
   "source": [
    "print(rfr_mse)\n",
    "print(rfr_rmse)"
   ]
  },
  {
   "cell_type": "markdown",
   "id": "7e0c7943-038c-49cb-b010-f3861c82cf0b",
   "metadata": {},
   "source": [
    "## Cross Validation"
   ]
  },
  {
   "cell_type": "code",
   "execution_count": 47,
   "id": "8b274af7-493b-4f85-9ac0-6d5bad0bb282",
   "metadata": {},
   "outputs": [],
   "source": [
    "from sklearn.model_selection import cross_val_score\n",
    "scores_lin = cross_val_score(model1, housing_num_tr, housing_labels, scoring=\"neg_mean_squared_error\", cv=10)\n",
    "scores_dt = cross_val_score(model2, housing_num_tr, housing_labels, scoring=\"neg_mean_squared_error\", cv=10)\n",
    "scores_rfr = cross_val_score(model3, housing_num_tr, housing_labels, scoring=\"neg_mean_squared_error\", cv=10)"
   ]
  },
  {
   "cell_type": "code",
   "execution_count": 48,
   "id": "99b856b5-53f5-4555-8bc5-cd140600e45b",
   "metadata": {},
   "outputs": [],
   "source": [
    "rmse_scores_lin = np.sqrt(-scores_lin)\n",
    "rmse_scores_dt = np.sqrt(-scores_dt)\n",
    "rmse_scores_rfr = np.sqrt(-scores_rfr)"
   ]
  },
  {
   "cell_type": "code",
   "execution_count": 49,
   "id": "71387886-940c-46cf-866a-73a00ca2af5e",
   "metadata": {},
   "outputs": [
    {
     "data": {
      "text/plain": [
       "array([ 3.06422642,  3.80114693,  3.75192676,  5.94236772,  5.65601244,\n",
       "        4.46517679,  3.11396553, 13.1094872 ,  5.88764607,  3.31551094])"
      ]
     },
     "execution_count": 49,
     "metadata": {},
     "output_type": "execute_result"
    }
   ],
   "source": [
    "rmse_scores_lin"
   ]
  },
  {
   "cell_type": "code",
   "execution_count": 50,
   "id": "43762d72-02fe-4778-ac66-8eafa991bb6b",
   "metadata": {},
   "outputs": [
    {
     "data": {
      "text/plain": [
       "array([4.07762907, 3.36113893, 3.69886045, 6.76939479, 4.89771856,\n",
       "       5.81881667, 3.06789737, 9.57777636, 8.12336137, 5.22907161])"
      ]
     },
     "execution_count": 50,
     "metadata": {},
     "output_type": "execute_result"
    }
   ],
   "source": [
    "rmse_scores_dt"
   ]
  },
  {
   "cell_type": "code",
   "execution_count": 51,
   "id": "d4407506-c8c2-4a08-a4dd-ab2564fdc48b",
   "metadata": {},
   "outputs": [
    {
     "data": {
      "text/plain": [
       "array([3.28926584, 2.41275194, 2.2398412 , 4.6699718 , 3.35330405,\n",
       "       5.09395279, 2.68542413, 9.750817  , 5.4634024 , 3.86444262])"
      ]
     },
     "execution_count": 51,
     "metadata": {},
     "output_type": "execute_result"
    }
   ],
   "source": [
    "rmse_scores_rfr"
   ]
  },
  {
   "cell_type": "code",
   "execution_count": 52,
   "id": "c2ead2a2-d260-402c-838e-0f092ca74123",
   "metadata": {},
   "outputs": [],
   "source": [
    "def printScores(scores):\n",
    "    print('Scores ',scores)\n",
    "    print('Mean Of Scores ',scores.mean())\n",
    "    print('STD Of Scores ',scores.std())"
   ]
  },
  {
   "cell_type": "code",
   "execution_count": 53,
   "id": "a15d649f-88f7-482f-98bc-791a680ef2f2",
   "metadata": {},
   "outputs": [
    {
     "name": "stdout",
     "output_type": "stream",
     "text": [
      "Scores  [ 3.06422642  3.80114693  3.75192676  5.94236772  5.65601244  4.46517679\n",
      "  3.11396553 13.1094872   5.88764607  3.31551094]\n",
      "Mean Of Scores  5.210746680201219\n",
      "STD Of Scores  2.8433920932395362\n"
     ]
    }
   ],
   "source": [
    "printScores(rmse_scores_lin)"
   ]
  },
  {
   "cell_type": "code",
   "execution_count": 54,
   "id": "fea18f80-2ede-4272-acad-ba3b94dfb641",
   "metadata": {},
   "outputs": [
    {
     "name": "stdout",
     "output_type": "stream",
     "text": [
      "Scores  [4.07762907 3.36113893 3.69886045 6.76939479 4.89771856 5.81881667\n",
      " 3.06789737 9.57777636 8.12336137 5.22907161]\n",
      "Mean Of Scores  5.462166518565842\n",
      "STD Of Scores  2.0347534536555827\n"
     ]
    }
   ],
   "source": [
    "printScores(rmse_scores_dt)"
   ]
  },
  {
   "cell_type": "code",
   "execution_count": 55,
   "id": "a5bb7b47-52e1-45e0-89dd-60d6beac23e9",
   "metadata": {},
   "outputs": [
    {
     "name": "stdout",
     "output_type": "stream",
     "text": [
      "Scores  [3.28926584 2.41275194 2.2398412  4.6699718  3.35330405 5.09395279\n",
      " 2.68542413 9.750817   5.4634024  3.86444262]\n",
      "Mean Of Scores  4.28231737733366\n",
      "STD Of Scores  2.1059289218812216\n"
     ]
    }
   ],
   "source": [
    "printScores(rmse_scores_rfr)"
   ]
  },
  {
   "cell_type": "markdown",
   "id": "5809c321-8d73-4634-a0be-aac1283cfbaf",
   "metadata": {},
   "source": [
    "Random Forest Regressor is The best of all\n",
    "1. Random Forest Regressor\n",
    "2. decision tree regressor\n",
    "3. Linear Regression\n",
    "\n",
    "## Pickling the model"
   ]
  },
  {
   "cell_type": "code",
   "execution_count": 56,
   "id": "f7a3448a-5d6c-404b-9d16-bbd398817627",
   "metadata": {},
   "outputs": [],
   "source": [
    "import pickle as pkl"
   ]
  },
  {
   "cell_type": "code",
   "execution_count": 57,
   "id": "9a0e6d81-f35e-4bb0-a87a-adbf11beffde",
   "metadata": {},
   "outputs": [],
   "source": [
    "with open('model.pkl', 'wb') as op:\n",
    "    testModel = pkl.dump(model3, op)"
   ]
  },
  {
   "cell_type": "markdown",
   "id": "efffc48f-b073-4884-b66e-39b893098445",
   "metadata": {},
   "source": [
    "## Running Final Tests on the Model"
   ]
  },
  {
   "cell_type": "code",
   "execution_count": 58,
   "id": "aeb51206-6672-44ce-ac72-c0c0f547d1c7",
   "metadata": {},
   "outputs": [
    {
     "data": {
      "text/html": [
       "<div>\n",
       "<style scoped>\n",
       "    .dataframe tbody tr th:only-of-type {\n",
       "        vertical-align: middle;\n",
       "    }\n",
       "\n",
       "    .dataframe tbody tr th {\n",
       "        vertical-align: top;\n",
       "    }\n",
       "\n",
       "    .dataframe thead th {\n",
       "        text-align: right;\n",
       "    }\n",
       "</style>\n",
       "<table border=\"1\" class=\"dataframe\">\n",
       "  <thead>\n",
       "    <tr style=\"text-align: right;\">\n",
       "      <th></th>\n",
       "      <th>CRIM</th>\n",
       "      <th>ZN</th>\n",
       "      <th>INDUS</th>\n",
       "      <th>CHAS</th>\n",
       "      <th>NOX</th>\n",
       "      <th>RM</th>\n",
       "      <th>AGE</th>\n",
       "      <th>DIS</th>\n",
       "      <th>RAD</th>\n",
       "      <th>TAX</th>\n",
       "      <th>PTRATIO</th>\n",
       "      <th>B</th>\n",
       "      <th>LSTAT</th>\n",
       "      <th>MEDV</th>\n",
       "    </tr>\n",
       "  </thead>\n",
       "  <tbody>\n",
       "    <tr>\n",
       "      <th>11</th>\n",
       "      <td>0.11747</td>\n",
       "      <td>12.5</td>\n",
       "      <td>7.87</td>\n",
       "      <td>0.0</td>\n",
       "      <td>0.524</td>\n",
       "      <td>6.009</td>\n",
       "      <td>82.9</td>\n",
       "      <td>6.2267</td>\n",
       "      <td>5.0</td>\n",
       "      <td>311.0</td>\n",
       "      <td>15.2</td>\n",
       "      <td>396.90</td>\n",
       "      <td>13.27</td>\n",
       "      <td>18.9</td>\n",
       "    </tr>\n",
       "    <tr>\n",
       "      <th>274</th>\n",
       "      <td>0.05644</td>\n",
       "      <td>40.0</td>\n",
       "      <td>6.41</td>\n",
       "      <td>1.0</td>\n",
       "      <td>0.447</td>\n",
       "      <td>6.758</td>\n",
       "      <td>32.9</td>\n",
       "      <td>4.0776</td>\n",
       "      <td>4.0</td>\n",
       "      <td>254.0</td>\n",
       "      <td>17.6</td>\n",
       "      <td>396.90</td>\n",
       "      <td>3.53</td>\n",
       "      <td>32.4</td>\n",
       "    </tr>\n",
       "    <tr>\n",
       "      <th>473</th>\n",
       "      <td>4.64689</td>\n",
       "      <td>0.0</td>\n",
       "      <td>18.10</td>\n",
       "      <td>0.0</td>\n",
       "      <td>0.614</td>\n",
       "      <td>6.980</td>\n",
       "      <td>67.6</td>\n",
       "      <td>2.5329</td>\n",
       "      <td>24.0</td>\n",
       "      <td>666.0</td>\n",
       "      <td>20.2</td>\n",
       "      <td>374.68</td>\n",
       "      <td>11.66</td>\n",
       "      <td>29.8</td>\n",
       "    </tr>\n",
       "    <tr>\n",
       "      <th>73</th>\n",
       "      <td>0.19539</td>\n",
       "      <td>0.0</td>\n",
       "      <td>10.81</td>\n",
       "      <td>0.0</td>\n",
       "      <td>0.413</td>\n",
       "      <td>6.245</td>\n",
       "      <td>6.2</td>\n",
       "      <td>5.2873</td>\n",
       "      <td>4.0</td>\n",
       "      <td>305.0</td>\n",
       "      <td>19.2</td>\n",
       "      <td>377.17</td>\n",
       "      <td>7.54</td>\n",
       "      <td>23.4</td>\n",
       "    </tr>\n",
       "    <tr>\n",
       "      <th>39</th>\n",
       "      <td>0.02763</td>\n",
       "      <td>75.0</td>\n",
       "      <td>2.95</td>\n",
       "      <td>0.0</td>\n",
       "      <td>0.428</td>\n",
       "      <td>6.595</td>\n",
       "      <td>21.8</td>\n",
       "      <td>5.4011</td>\n",
       "      <td>3.0</td>\n",
       "      <td>252.0</td>\n",
       "      <td>18.3</td>\n",
       "      <td>395.63</td>\n",
       "      <td>4.32</td>\n",
       "      <td>30.8</td>\n",
       "    </tr>\n",
       "    <tr>\n",
       "      <th>...</th>\n",
       "      <td>...</td>\n",
       "      <td>...</td>\n",
       "      <td>...</td>\n",
       "      <td>...</td>\n",
       "      <td>...</td>\n",
       "      <td>...</td>\n",
       "      <td>...</td>\n",
       "      <td>...</td>\n",
       "      <td>...</td>\n",
       "      <td>...</td>\n",
       "      <td>...</td>\n",
       "      <td>...</td>\n",
       "      <td>...</td>\n",
       "      <td>...</td>\n",
       "    </tr>\n",
       "    <tr>\n",
       "      <th>134</th>\n",
       "      <td>0.97617</td>\n",
       "      <td>0.0</td>\n",
       "      <td>21.89</td>\n",
       "      <td>0.0</td>\n",
       "      <td>0.624</td>\n",
       "      <td>5.757</td>\n",
       "      <td>98.4</td>\n",
       "      <td>2.3460</td>\n",
       "      <td>4.0</td>\n",
       "      <td>437.0</td>\n",
       "      <td>21.2</td>\n",
       "      <td>262.76</td>\n",
       "      <td>17.31</td>\n",
       "      <td>15.6</td>\n",
       "    </tr>\n",
       "    <tr>\n",
       "      <th>505</th>\n",
       "      <td>0.04741</td>\n",
       "      <td>0.0</td>\n",
       "      <td>11.93</td>\n",
       "      <td>0.0</td>\n",
       "      <td>0.573</td>\n",
       "      <td>6.030</td>\n",
       "      <td>80.8</td>\n",
       "      <td>2.5050</td>\n",
       "      <td>1.0</td>\n",
       "      <td>273.0</td>\n",
       "      <td>21.0</td>\n",
       "      <td>396.90</td>\n",
       "      <td>7.88</td>\n",
       "      <td>11.9</td>\n",
       "    </tr>\n",
       "    <tr>\n",
       "      <th>121</th>\n",
       "      <td>0.07165</td>\n",
       "      <td>0.0</td>\n",
       "      <td>25.65</td>\n",
       "      <td>0.0</td>\n",
       "      <td>0.581</td>\n",
       "      <td>6.004</td>\n",
       "      <td>84.1</td>\n",
       "      <td>2.1974</td>\n",
       "      <td>2.0</td>\n",
       "      <td>188.0</td>\n",
       "      <td>19.1</td>\n",
       "      <td>377.67</td>\n",
       "      <td>14.27</td>\n",
       "      <td>20.3</td>\n",
       "    </tr>\n",
       "    <tr>\n",
       "      <th>301</th>\n",
       "      <td>0.03537</td>\n",
       "      <td>34.0</td>\n",
       "      <td>6.09</td>\n",
       "      <td>0.0</td>\n",
       "      <td>0.433</td>\n",
       "      <td>6.590</td>\n",
       "      <td>40.4</td>\n",
       "      <td>5.4917</td>\n",
       "      <td>7.0</td>\n",
       "      <td>329.0</td>\n",
       "      <td>16.1</td>\n",
       "      <td>395.75</td>\n",
       "      <td>9.50</td>\n",
       "      <td>22.0</td>\n",
       "    </tr>\n",
       "    <tr>\n",
       "      <th>393</th>\n",
       "      <td>8.64476</td>\n",
       "      <td>0.0</td>\n",
       "      <td>18.10</td>\n",
       "      <td>0.0</td>\n",
       "      <td>0.693</td>\n",
       "      <td>6.193</td>\n",
       "      <td>92.6</td>\n",
       "      <td>1.7912</td>\n",
       "      <td>24.0</td>\n",
       "      <td>666.0</td>\n",
       "      <td>20.2</td>\n",
       "      <td>396.90</td>\n",
       "      <td>15.17</td>\n",
       "      <td>13.8</td>\n",
       "    </tr>\n",
       "  </tbody>\n",
       "</table>\n",
       "<p>102 rows × 14 columns</p>\n",
       "</div>"
      ],
      "text/plain": [
       "        CRIM    ZN  INDUS  CHAS    NOX     RM   AGE     DIS   RAD    TAX  \\\n",
       "11   0.11747  12.5   7.87   0.0  0.524  6.009  82.9  6.2267   5.0  311.0   \n",
       "274  0.05644  40.0   6.41   1.0  0.447  6.758  32.9  4.0776   4.0  254.0   \n",
       "473  4.64689   0.0  18.10   0.0  0.614  6.980  67.6  2.5329  24.0  666.0   \n",
       "73   0.19539   0.0  10.81   0.0  0.413  6.245   6.2  5.2873   4.0  305.0   \n",
       "39   0.02763  75.0   2.95   0.0  0.428  6.595  21.8  5.4011   3.0  252.0   \n",
       "..       ...   ...    ...   ...    ...    ...   ...     ...   ...    ...   \n",
       "134  0.97617   0.0  21.89   0.0  0.624  5.757  98.4  2.3460   4.0  437.0   \n",
       "505  0.04741   0.0  11.93   0.0  0.573  6.030  80.8  2.5050   1.0  273.0   \n",
       "121  0.07165   0.0  25.65   0.0  0.581  6.004  84.1  2.1974   2.0  188.0   \n",
       "301  0.03537  34.0   6.09   0.0  0.433  6.590  40.4  5.4917   7.0  329.0   \n",
       "393  8.64476   0.0  18.10   0.0  0.693  6.193  92.6  1.7912  24.0  666.0   \n",
       "\n",
       "     PTRATIO       B  LSTAT  MEDV  \n",
       "11      15.2  396.90  13.27  18.9  \n",
       "274     17.6  396.90   3.53  32.4  \n",
       "473     20.2  374.68  11.66  29.8  \n",
       "73      19.2  377.17   7.54  23.4  \n",
       "39      18.3  395.63   4.32  30.8  \n",
       "..       ...     ...    ...   ...  \n",
       "134     21.2  262.76  17.31  15.6  \n",
       "505     21.0  396.90   7.88  11.9  \n",
       "121     19.1  377.67  14.27  20.3  \n",
       "301     16.1  395.75   9.50  22.0  \n",
       "393     20.2  396.90  15.17  13.8  \n",
       "\n",
       "[102 rows x 14 columns]"
      ]
     },
     "execution_count": 58,
     "metadata": {},
     "output_type": "execute_result"
    }
   ],
   "source": [
    "test_set"
   ]
  },
  {
   "cell_type": "code",
   "execution_count": 59,
   "id": "50cddf59-6cea-42bf-ba8d-0358201769b9",
   "metadata": {},
   "outputs": [],
   "source": [
    "x_test = test_set.drop('MEDV', axis=1)\n",
    "y_test = test_set['MEDV'].copy()"
   ]
  },
  {
   "cell_type": "code",
   "execution_count": 60,
   "id": "063e641e-26eb-4e5d-bd1f-3ddf29783fed",
   "metadata": {},
   "outputs": [],
   "source": [
    "x_prepared = myPipeLine.transform(x_test)"
   ]
  },
  {
   "cell_type": "code",
   "execution_count": 61,
   "id": "74332d8d-426b-428e-a5bc-b44187d94f3c",
   "metadata": {},
   "outputs": [],
   "source": [
    "with open('model.pkl', 'rb') as op:\n",
    "    testModel = pkl.load(op)"
   ]
  },
  {
   "cell_type": "code",
   "execution_count": 62,
   "id": "873e6a0b-1515-42af-bc1e-d7e29eb24a2e",
   "metadata": {},
   "outputs": [
    {
     "data": {
      "text/html": [
       "<style>#sk-container-id-3 {color: black;}#sk-container-id-3 pre{padding: 0;}#sk-container-id-3 div.sk-toggleable {background-color: white;}#sk-container-id-3 label.sk-toggleable__label {cursor: pointer;display: block;width: 100%;margin-bottom: 0;padding: 0.3em;box-sizing: border-box;text-align: center;}#sk-container-id-3 label.sk-toggleable__label-arrow:before {content: \"▸\";float: left;margin-right: 0.25em;color: #696969;}#sk-container-id-3 label.sk-toggleable__label-arrow:hover:before {color: black;}#sk-container-id-3 div.sk-estimator:hover label.sk-toggleable__label-arrow:before {color: black;}#sk-container-id-3 div.sk-toggleable__content {max-height: 0;max-width: 0;overflow: hidden;text-align: left;background-color: #f0f8ff;}#sk-container-id-3 div.sk-toggleable__content pre {margin: 0.2em;color: black;border-radius: 0.25em;background-color: #f0f8ff;}#sk-container-id-3 input.sk-toggleable__control:checked~div.sk-toggleable__content {max-height: 200px;max-width: 100%;overflow: auto;}#sk-container-id-3 input.sk-toggleable__control:checked~label.sk-toggleable__label-arrow:before {content: \"▾\";}#sk-container-id-3 div.sk-estimator input.sk-toggleable__control:checked~label.sk-toggleable__label {background-color: #d4ebff;}#sk-container-id-3 div.sk-label input.sk-toggleable__control:checked~label.sk-toggleable__label {background-color: #d4ebff;}#sk-container-id-3 input.sk-hidden--visually {border: 0;clip: rect(1px 1px 1px 1px);clip: rect(1px, 1px, 1px, 1px);height: 1px;margin: -1px;overflow: hidden;padding: 0;position: absolute;width: 1px;}#sk-container-id-3 div.sk-estimator {font-family: monospace;background-color: #f0f8ff;border: 1px dotted black;border-radius: 0.25em;box-sizing: border-box;margin-bottom: 0.5em;}#sk-container-id-3 div.sk-estimator:hover {background-color: #d4ebff;}#sk-container-id-3 div.sk-parallel-item::after {content: \"\";width: 100%;border-bottom: 1px solid gray;flex-grow: 1;}#sk-container-id-3 div.sk-label:hover label.sk-toggleable__label {background-color: #d4ebff;}#sk-container-id-3 div.sk-serial::before {content: \"\";position: absolute;border-left: 1px solid gray;box-sizing: border-box;top: 0;bottom: 0;left: 50%;z-index: 0;}#sk-container-id-3 div.sk-serial {display: flex;flex-direction: column;align-items: center;background-color: white;padding-right: 0.2em;padding-left: 0.2em;position: relative;}#sk-container-id-3 div.sk-item {position: relative;z-index: 1;}#sk-container-id-3 div.sk-parallel {display: flex;align-items: stretch;justify-content: center;background-color: white;position: relative;}#sk-container-id-3 div.sk-item::before, #sk-container-id-3 div.sk-parallel-item::before {content: \"\";position: absolute;border-left: 1px solid gray;box-sizing: border-box;top: 0;bottom: 0;left: 50%;z-index: -1;}#sk-container-id-3 div.sk-parallel-item {display: flex;flex-direction: column;z-index: 1;position: relative;background-color: white;}#sk-container-id-3 div.sk-parallel-item:first-child::after {align-self: flex-end;width: 50%;}#sk-container-id-3 div.sk-parallel-item:last-child::after {align-self: flex-start;width: 50%;}#sk-container-id-3 div.sk-parallel-item:only-child::after {width: 0;}#sk-container-id-3 div.sk-dashed-wrapped {border: 1px dashed gray;margin: 0 0.4em 0.5em 0.4em;box-sizing: border-box;padding-bottom: 0.4em;background-color: white;}#sk-container-id-3 div.sk-label label {font-family: monospace;font-weight: bold;display: inline-block;line-height: 1.2em;}#sk-container-id-3 div.sk-label-container {text-align: center;}#sk-container-id-3 div.sk-container {/* jupyter's `normalize.less` sets `[hidden] { display: none; }` but bootstrap.min.css set `[hidden] { display: none !important; }` so we also need the `!important` here to be able to override the default hidden behavior on the sphinx rendered scikit-learn.org. See: https://github.com/scikit-learn/scikit-learn/issues/21755 */display: inline-block !important;position: relative;}#sk-container-id-3 div.sk-text-repr-fallback {display: none;}</style><div id=\"sk-container-id-3\" class=\"sk-top-container\"><div class=\"sk-text-repr-fallback\"><pre>RandomForestRegressor()</pre><b>In a Jupyter environment, please rerun this cell to show the HTML representation or trust the notebook. <br />On GitHub, the HTML representation is unable to render, please try loading this page with nbviewer.org.</b></div><div class=\"sk-container\" hidden><div class=\"sk-item\"><div class=\"sk-estimator sk-toggleable\"><input class=\"sk-toggleable__control sk-hidden--visually\" id=\"sk-estimator-id-3\" type=\"checkbox\" checked><label for=\"sk-estimator-id-3\" class=\"sk-toggleable__label sk-toggleable__label-arrow\">RandomForestRegressor</label><div class=\"sk-toggleable__content\"><pre>RandomForestRegressor()</pre></div></div></div></div></div>"
      ],
      "text/plain": [
       "RandomForestRegressor()"
      ]
     },
     "execution_count": 62,
     "metadata": {},
     "output_type": "execute_result"
    }
   ],
   "source": [
    "testModel"
   ]
  },
  {
   "cell_type": "code",
   "execution_count": 63,
   "id": "682b664a-6c01-4399-87a1-4fff96e4fc90",
   "metadata": {},
   "outputs": [],
   "source": [
    "final_predictions = testModel.predict(x_prepared)"
   ]
  },
  {
   "cell_type": "code",
   "execution_count": 64,
   "id": "eb3ed262-b130-4e2a-a654-2fe52efc24d9",
   "metadata": {},
   "outputs": [
    {
     "data": {
      "text/plain": [
       "array([19.72      , 31.295     , 28.078     , 23.655     , 29.736     ,\n",
       "       22.631     , 22.011     ,  8.182     , 18.114     , 27.525     ,\n",
       "       30.868     , 31.759     , 21.707     , 26.203     , 20.502     ,\n",
       "       27.044     , 19.774     , 25.017     , 27.909     , 14.294     ,\n",
       "       43.362     , 23.43      , 22.12532806, 24.441     , 19.37      ,\n",
       "       23.22      , 19.336     ,  8.938     , 17.127     , 12.796     ,\n",
       "       19.195     , 17.292     , 40.578     , 33.046     , 18.133     ,\n",
       "       24.23      , 20.176     , 18.184     , 19.13      , 29.261     ,\n",
       "       20.883     , 16.702     , 31.253     , 18.384     , 23.023     ,\n",
       "       46.761     , 26.433     , 22.065     , 32.12      ,  8.02      ,\n",
       "       14.214     , 14.738     , 42.78      , 19.553     , 21.185     ,\n",
       "        8.814     , 21.96899604, 19.407     , 17.423     , 23.283     ,\n",
       "       18.854     , 24.156     , 13.626     , 25.027     , 15.867     ,\n",
       "       19.907     , 13.396     , 24.732     , 31.561     , 10.922     ,\n",
       "       14.615     , 20.879     , 21.337     , 12.564     , 14.693     ,\n",
       "       14.154     , 20.15      , 19.942     , 18.658     , 21.46832806,\n",
       "       48.374     , 19.674     , 21.648     , 35.47      , 16.903     ,\n",
       "        8.746     , 14.051     , 33.793     , 38.974     , 19.493     ,\n",
       "       23.093     , 35.724     , 20.786     , 22.274     , 18.907     ,\n",
       "       23.881     , 20.571     , 15.674     , 15.012     , 20.734     ,\n",
       "       23.861     , 14.185     ])"
      ]
     },
     "execution_count": 64,
     "metadata": {},
     "output_type": "execute_result"
    }
   ],
   "source": [
    "final_predictions"
   ]
  },
  {
   "cell_type": "code",
   "execution_count": 65,
   "id": "1e16c04c-acbf-4a02-8d8c-89e6debb5d81",
   "metadata": {},
   "outputs": [],
   "source": [
    "final_mse = mean_squared_error(y_test, final_predictions)\n",
    "final_rmse = np.sqrt(final_mse)"
   ]
  },
  {
   "cell_type": "code",
   "execution_count": 66,
   "id": "53a18ba5-6e0e-4854-a99c-505c090e01bf",
   "metadata": {},
   "outputs": [
    {
     "data": {
      "text/plain": [
       "1.77712876223203"
      ]
     },
     "execution_count": 66,
     "metadata": {},
     "output_type": "execute_result"
    }
   ],
   "source": [
    "final_mse"
   ]
  },
  {
   "cell_type": "code",
   "execution_count": 67,
   "id": "a03d3720-f471-4e5a-b53a-c393b15bfac1",
   "metadata": {},
   "outputs": [
    {
     "data": {
      "text/plain": [
       "1.3330899302867867"
      ]
     },
     "execution_count": 67,
     "metadata": {},
     "output_type": "execute_result"
    }
   ],
   "source": [
    "final_rmse"
   ]
  },
  {
   "cell_type": "code",
   "execution_count": 68,
   "id": "b9199102-63ba-4d72-9efd-d66acabe218c",
   "metadata": {},
   "outputs": [],
   "source": [
    "final_scores = cross_val_score(testModel, x_prepared, y_test, scoring='neg_mean_squared_error', cv=10)\n",
    "final_rmse_scores = np.sqrt(-final_scores)"
   ]
  },
  {
   "cell_type": "code",
   "execution_count": 69,
   "id": "34ec3eec-db42-4a0a-ac0b-47f2b5fee4ff",
   "metadata": {},
   "outputs": [
    {
     "name": "stdout",
     "output_type": "stream",
     "text": [
      "Scores  [2.75404838 6.42223223 3.87817859 3.28038735 7.87205006 3.52140427\n",
      " 4.05632396 3.294416   3.74168086 5.30889555]\n",
      "Mean Of Scores  4.412961724204342\n",
      "STD Of Scores  1.5410936514537166\n"
     ]
    }
   ],
   "source": [
    "printScores(final_rmse_scores)"
   ]
  },
  {
   "cell_type": "code",
   "execution_count": 70,
   "id": "620a5fc6-b054-4c78-b070-2d6c60824c1e",
   "metadata": {},
   "outputs": [
    {
     "data": {
      "text/plain": [
       "array([19.72      , 31.295     , 28.078     , 23.655     , 29.736     ,\n",
       "       22.631     , 22.011     ,  8.182     , 18.114     , 27.525     ,\n",
       "       30.868     , 31.759     , 21.707     , 26.203     , 20.502     ,\n",
       "       27.044     , 19.774     , 25.017     , 27.909     , 14.294     ,\n",
       "       43.362     , 23.43      , 22.12532806, 24.441     , 19.37      ,\n",
       "       23.22      , 19.336     ,  8.938     , 17.127     , 12.796     ,\n",
       "       19.195     , 17.292     , 40.578     , 33.046     , 18.133     ,\n",
       "       24.23      , 20.176     , 18.184     , 19.13      , 29.261     ,\n",
       "       20.883     , 16.702     , 31.253     , 18.384     , 23.023     ,\n",
       "       46.761     , 26.433     , 22.065     , 32.12      ,  8.02      ,\n",
       "       14.214     , 14.738     , 42.78      , 19.553     , 21.185     ,\n",
       "        8.814     , 21.96899604, 19.407     , 17.423     , 23.283     ,\n",
       "       18.854     , 24.156     , 13.626     , 25.027     , 15.867     ,\n",
       "       19.907     , 13.396     , 24.732     , 31.561     , 10.922     ,\n",
       "       14.615     , 20.879     , 21.337     , 12.564     , 14.693     ,\n",
       "       14.154     , 20.15      , 19.942     , 18.658     , 21.46832806,\n",
       "       48.374     , 19.674     , 21.648     , 35.47      , 16.903     ,\n",
       "        8.746     , 14.051     , 33.793     , 38.974     , 19.493     ,\n",
       "       23.093     , 35.724     , 20.786     , 22.274     , 18.907     ,\n",
       "       23.881     , 20.571     , 15.674     , 15.012     , 20.734     ,\n",
       "       23.861     , 14.185     ])"
      ]
     },
     "execution_count": 70,
     "metadata": {},
     "output_type": "execute_result"
    }
   ],
   "source": [
    "final_predictions"
   ]
  },
  {
   "cell_type": "code",
   "execution_count": 71,
   "id": "4c60c4ea-276d-454d-a87a-15e16de322df",
   "metadata": {},
   "outputs": [
    {
     "data": {
      "text/plain": [
       "11     18.9\n",
       "274    32.4\n",
       "473    29.8\n",
       "73     23.4\n",
       "39     30.8\n",
       "       ... \n",
       "134    15.6\n",
       "505    11.9\n",
       "121    20.3\n",
       "301    22.0\n",
       "393    13.8\n",
       "Name: MEDV, Length: 102, dtype: float64"
      ]
     },
     "execution_count": 71,
     "metadata": {},
     "output_type": "execute_result"
    }
   ],
   "source": [
    "y_test"
   ]
  },
  {
   "cell_type": "code",
   "execution_count": null,
   "id": "2f2a9ed8-efef-4336-af2b-a385ddc6f667",
   "metadata": {},
   "outputs": [],
   "source": []
  }
 ],
 "metadata": {
  "kernelspec": {
   "display_name": "Python 3 (ipykernel)",
   "language": "python",
   "name": "python3"
  },
  "language_info": {
   "codemirror_mode": {
    "name": "ipython",
    "version": 3
   },
   "file_extension": ".py",
   "mimetype": "text/x-python",
   "name": "python",
   "nbconvert_exporter": "python",
   "pygments_lexer": "ipython3",
   "version": "3.11.5"
  }
 },
 "nbformat": 4,
 "nbformat_minor": 5
}
